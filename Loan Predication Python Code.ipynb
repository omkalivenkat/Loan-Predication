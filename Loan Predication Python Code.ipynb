{
 "cells": [
  {
   "cell_type": "markdown",
   "id": "06ee80a6",
   "metadata": {},
   "source": [
    "# Business Problem\n",
    "Generally approving the loan is one of the time taking process for the Dream Housing Finanace Company.They want to Automate the process of the loan approval system.Which may saves the time of the company"
   ]
  },
  {
   "cell_type": "markdown",
   "id": "4a1bad35",
   "metadata": {},
   "source": [
    "# Dataset Information\n",
    "\n",
    "   Dream Housing Finance company deals in all home loans. They have presence across all urban, semi urban and rural areas. Customer first apply for home loan after that company validates the customer eligibility for loan. Company wants to automate the loan eligibility process (real time) based on customer detail provided while filling online application form. These details are Gender, Marital Status, Education, Number of Dependents, Income, Loan Amount, Credit History and others. To automate this process, they have given a problem to identify the customers segments, those are eligible for loan amount so that they can specifically target these customers.\n",
    "   \n",
    "   This is a standard supervised classification task.A classification problem where we have to predict whether a loan would be approved or not. Below is the dataset attributes with description.\n",
    "   \n",
    "Variable | Description\n",
    "----------|--------------\n",
    "Loan_ID | Unique Loan ID\n",
    "Gender | Male/ Female\n",
    "Married | Applicant married (Y/N)\n",
    "Dependents | Number of dependents\n",
    "Education | Applicant Education (Graduate/ Under Graduate)\n",
    "Self_Employed | Self employed (Y/N)\n",
    "ApplicantIncome | Applicant income\n",
    "CoapplicantIncome | Coapplicant income\n",
    "LoanAmount | Loan amount in thousands\n",
    "Loan_Amount_Term | Term of loan in months\n",
    "Credit_History | credit history meets guidelines\n",
    "Property_Area | Urban/ Semi Urban/ Rural\n",
    "Loan_Status | Loan approved (Y/N)"
   ]
  },
  {
   "cell_type": "markdown",
   "id": "wired-southeast",
   "metadata": {
    "papermill": {
     "duration": 0.046458,
     "end_time": "2021-04-05T20:22:35.169174",
     "exception": false,
     "start_time": "2021-04-05T20:22:35.122716",
     "status": "completed"
    },
    "tags": []
   },
   "source": [
    "## IMPORT MODULES:"
   ]
  },
  {
   "cell_type": "code",
   "execution_count": 1,
   "id": "consecutive-partner",
   "metadata": {
    "execution": {
     "iopub.execute_input": "2021-04-05T20:22:35.269570Z",
     "iopub.status.busy": "2021-04-05T20:22:35.268942Z",
     "iopub.status.idle": "2021-04-05T20:22:36.315703Z",
     "shell.execute_reply": "2021-04-05T20:22:36.314977Z"
    },
    "papermill": {
     "duration": 1.099857,
     "end_time": "2021-04-05T20:22:36.315874",
     "exception": false,
     "start_time": "2021-04-05T20:22:35.216017",
     "status": "completed"
    },
    "tags": []
   },
   "outputs": [],
   "source": [
    "import pandas as pd\n",
    "import numpy as np \n",
    "import seaborn as sns\n",
    "import matplotlib.pyplot as plt\n",
    "%matplotlib inline\n",
    "import warnings\n",
    "warnings.filterwarnings('ignore')"
   ]
  },
  {
   "cell_type": "markdown",
   "id": "chinese-template",
   "metadata": {
    "papermill": {
     "duration": 0.047408,
     "end_time": "2021-04-05T20:22:36.411334",
     "exception": false,
     "start_time": "2021-04-05T20:22:36.363926",
     "status": "completed"
    },
    "tags": []
   },
   "source": [
    "## LOADING THE DATASET: "
   ]
  },
  {
   "cell_type": "code",
   "execution_count": 2,
   "id": "enhanced-consistency",
   "metadata": {
    "execution": {
     "iopub.execute_input": "2021-04-05T20:22:36.513587Z",
     "iopub.status.busy": "2021-04-05T20:22:36.512844Z",
     "iopub.status.idle": "2021-04-05T20:22:36.530719Z",
     "shell.execute_reply": "2021-04-05T20:22:36.530058Z"
    },
    "papermill": {
     "duration": 0.071511,
     "end_time": "2021-04-05T20:22:36.530896",
     "exception": false,
     "start_time": "2021-04-05T20:22:36.459385",
     "status": "completed"
    },
    "tags": []
   },
   "outputs": [],
   "source": [
    "df = pd.read_csv(\"C:/Users/91950/Downloads/Group Project/Loan Prediction Dataset.csv\")"
   ]
  },
  {
   "cell_type": "code",
   "execution_count": 3,
   "id": "formed-diary",
   "metadata": {
    "execution": {
     "iopub.execute_input": "2021-04-05T20:22:36.662028Z",
     "iopub.status.busy": "2021-04-05T20:22:36.660961Z",
     "iopub.status.idle": "2021-04-05T20:22:36.699664Z",
     "shell.execute_reply": "2021-04-05T20:22:36.700197Z"
    },
    "papermill": {
     "duration": 0.120958,
     "end_time": "2021-04-05T20:22:36.700394",
     "exception": false,
     "start_time": "2021-04-05T20:22:36.579436",
     "status": "completed"
    },
    "tags": []
   },
   "outputs": [
    {
     "data": {
      "text/html": [
       "<div>\n",
       "<style scoped>\n",
       "    .dataframe tbody tr th:only-of-type {\n",
       "        vertical-align: middle;\n",
       "    }\n",
       "\n",
       "    .dataframe tbody tr th {\n",
       "        vertical-align: top;\n",
       "    }\n",
       "\n",
       "    .dataframe thead th {\n",
       "        text-align: right;\n",
       "    }\n",
       "</style>\n",
       "<table border=\"1\" class=\"dataframe\">\n",
       "  <thead>\n",
       "    <tr style=\"text-align: right;\">\n",
       "      <th></th>\n",
       "      <th>Loan_ID</th>\n",
       "      <th>Gender</th>\n",
       "      <th>Married</th>\n",
       "      <th>Dependents</th>\n",
       "      <th>Education</th>\n",
       "      <th>Self_Employed</th>\n",
       "      <th>ApplicantIncome</th>\n",
       "      <th>CoapplicantIncome</th>\n",
       "      <th>LoanAmount</th>\n",
       "      <th>Loan_Amount_Term</th>\n",
       "      <th>Credit_History</th>\n",
       "      <th>Property_Area</th>\n",
       "      <th>Loan_Status</th>\n",
       "    </tr>\n",
       "  </thead>\n",
       "  <tbody>\n",
       "    <tr>\n",
       "      <th>0</th>\n",
       "      <td>LP001002</td>\n",
       "      <td>Male</td>\n",
       "      <td>No</td>\n",
       "      <td>0</td>\n",
       "      <td>Graduate</td>\n",
       "      <td>No</td>\n",
       "      <td>5849</td>\n",
       "      <td>0.0</td>\n",
       "      <td>NaN</td>\n",
       "      <td>360.0</td>\n",
       "      <td>1.0</td>\n",
       "      <td>Urban</td>\n",
       "      <td>Y</td>\n",
       "    </tr>\n",
       "    <tr>\n",
       "      <th>1</th>\n",
       "      <td>LP001003</td>\n",
       "      <td>Male</td>\n",
       "      <td>Yes</td>\n",
       "      <td>1</td>\n",
       "      <td>Graduate</td>\n",
       "      <td>No</td>\n",
       "      <td>4583</td>\n",
       "      <td>1508.0</td>\n",
       "      <td>128.0</td>\n",
       "      <td>360.0</td>\n",
       "      <td>1.0</td>\n",
       "      <td>Rural</td>\n",
       "      <td>N</td>\n",
       "    </tr>\n",
       "    <tr>\n",
       "      <th>2</th>\n",
       "      <td>LP001005</td>\n",
       "      <td>Male</td>\n",
       "      <td>Yes</td>\n",
       "      <td>0</td>\n",
       "      <td>Graduate</td>\n",
       "      <td>Yes</td>\n",
       "      <td>3000</td>\n",
       "      <td>0.0</td>\n",
       "      <td>66.0</td>\n",
       "      <td>360.0</td>\n",
       "      <td>1.0</td>\n",
       "      <td>Urban</td>\n",
       "      <td>Y</td>\n",
       "    </tr>\n",
       "    <tr>\n",
       "      <th>3</th>\n",
       "      <td>LP001006</td>\n",
       "      <td>Male</td>\n",
       "      <td>Yes</td>\n",
       "      <td>0</td>\n",
       "      <td>Not Graduate</td>\n",
       "      <td>No</td>\n",
       "      <td>2583</td>\n",
       "      <td>2358.0</td>\n",
       "      <td>120.0</td>\n",
       "      <td>360.0</td>\n",
       "      <td>1.0</td>\n",
       "      <td>Urban</td>\n",
       "      <td>Y</td>\n",
       "    </tr>\n",
       "    <tr>\n",
       "      <th>4</th>\n",
       "      <td>LP001008</td>\n",
       "      <td>Male</td>\n",
       "      <td>No</td>\n",
       "      <td>0</td>\n",
       "      <td>Graduate</td>\n",
       "      <td>No</td>\n",
       "      <td>6000</td>\n",
       "      <td>0.0</td>\n",
       "      <td>141.0</td>\n",
       "      <td>360.0</td>\n",
       "      <td>1.0</td>\n",
       "      <td>Urban</td>\n",
       "      <td>Y</td>\n",
       "    </tr>\n",
       "  </tbody>\n",
       "</table>\n",
       "</div>"
      ],
      "text/plain": [
       "    Loan_ID Gender Married Dependents     Education Self_Employed  \\\n",
       "0  LP001002   Male      No          0      Graduate            No   \n",
       "1  LP001003   Male     Yes          1      Graduate            No   \n",
       "2  LP001005   Male     Yes          0      Graduate           Yes   \n",
       "3  LP001006   Male     Yes          0  Not Graduate            No   \n",
       "4  LP001008   Male      No          0      Graduate            No   \n",
       "\n",
       "   ApplicantIncome  CoapplicantIncome  LoanAmount  Loan_Amount_Term  \\\n",
       "0             5849                0.0         NaN             360.0   \n",
       "1             4583             1508.0       128.0             360.0   \n",
       "2             3000                0.0        66.0             360.0   \n",
       "3             2583             2358.0       120.0             360.0   \n",
       "4             6000                0.0       141.0             360.0   \n",
       "\n",
       "   Credit_History Property_Area Loan_Status  \n",
       "0             1.0         Urban           Y  \n",
       "1             1.0         Rural           N  \n",
       "2             1.0         Urban           Y  \n",
       "3             1.0         Urban           Y  \n",
       "4             1.0         Urban           Y  "
      ]
     },
     "execution_count": 3,
     "metadata": {},
     "output_type": "execute_result"
    }
   ],
   "source": [
    "df.head()"
   ]
  },
  {
   "cell_type": "code",
   "execution_count": 4,
   "id": "appointed-technician",
   "metadata": {
    "execution": {
     "iopub.execute_input": "2021-04-05T20:22:36.812376Z",
     "iopub.status.busy": "2021-04-05T20:22:36.811657Z",
     "iopub.status.idle": "2021-04-05T20:22:36.841205Z",
     "shell.execute_reply": "2021-04-05T20:22:36.840467Z"
    },
    "papermill": {
     "duration": 0.084671,
     "end_time": "2021-04-05T20:22:36.841373",
     "exception": false,
     "start_time": "2021-04-05T20:22:36.756702",
     "status": "completed"
    },
    "tags": []
   },
   "outputs": [
    {
     "data": {
      "text/html": [
       "<div>\n",
       "<style scoped>\n",
       "    .dataframe tbody tr th:only-of-type {\n",
       "        vertical-align: middle;\n",
       "    }\n",
       "\n",
       "    .dataframe tbody tr th {\n",
       "        vertical-align: top;\n",
       "    }\n",
       "\n",
       "    .dataframe thead th {\n",
       "        text-align: right;\n",
       "    }\n",
       "</style>\n",
       "<table border=\"1\" class=\"dataframe\">\n",
       "  <thead>\n",
       "    <tr style=\"text-align: right;\">\n",
       "      <th></th>\n",
       "      <th>ApplicantIncome</th>\n",
       "      <th>CoapplicantIncome</th>\n",
       "      <th>LoanAmount</th>\n",
       "      <th>Loan_Amount_Term</th>\n",
       "      <th>Credit_History</th>\n",
       "    </tr>\n",
       "  </thead>\n",
       "  <tbody>\n",
       "    <tr>\n",
       "      <th>count</th>\n",
       "      <td>614.000000</td>\n",
       "      <td>614.000000</td>\n",
       "      <td>592.000000</td>\n",
       "      <td>600.00000</td>\n",
       "      <td>564.000000</td>\n",
       "    </tr>\n",
       "    <tr>\n",
       "      <th>mean</th>\n",
       "      <td>5403.459283</td>\n",
       "      <td>1621.245798</td>\n",
       "      <td>146.412162</td>\n",
       "      <td>342.00000</td>\n",
       "      <td>0.842199</td>\n",
       "    </tr>\n",
       "    <tr>\n",
       "      <th>std</th>\n",
       "      <td>6109.041673</td>\n",
       "      <td>2926.248369</td>\n",
       "      <td>85.587325</td>\n",
       "      <td>65.12041</td>\n",
       "      <td>0.364878</td>\n",
       "    </tr>\n",
       "    <tr>\n",
       "      <th>min</th>\n",
       "      <td>150.000000</td>\n",
       "      <td>0.000000</td>\n",
       "      <td>9.000000</td>\n",
       "      <td>12.00000</td>\n",
       "      <td>0.000000</td>\n",
       "    </tr>\n",
       "    <tr>\n",
       "      <th>25%</th>\n",
       "      <td>2877.500000</td>\n",
       "      <td>0.000000</td>\n",
       "      <td>100.000000</td>\n",
       "      <td>360.00000</td>\n",
       "      <td>1.000000</td>\n",
       "    </tr>\n",
       "    <tr>\n",
       "      <th>50%</th>\n",
       "      <td>3812.500000</td>\n",
       "      <td>1188.500000</td>\n",
       "      <td>128.000000</td>\n",
       "      <td>360.00000</td>\n",
       "      <td>1.000000</td>\n",
       "    </tr>\n",
       "    <tr>\n",
       "      <th>75%</th>\n",
       "      <td>5795.000000</td>\n",
       "      <td>2297.250000</td>\n",
       "      <td>168.000000</td>\n",
       "      <td>360.00000</td>\n",
       "      <td>1.000000</td>\n",
       "    </tr>\n",
       "    <tr>\n",
       "      <th>max</th>\n",
       "      <td>81000.000000</td>\n",
       "      <td>41667.000000</td>\n",
       "      <td>700.000000</td>\n",
       "      <td>480.00000</td>\n",
       "      <td>1.000000</td>\n",
       "    </tr>\n",
       "  </tbody>\n",
       "</table>\n",
       "</div>"
      ],
      "text/plain": [
       "       ApplicantIncome  CoapplicantIncome  LoanAmount  Loan_Amount_Term  \\\n",
       "count       614.000000         614.000000  592.000000         600.00000   \n",
       "mean       5403.459283        1621.245798  146.412162         342.00000   \n",
       "std        6109.041673        2926.248369   85.587325          65.12041   \n",
       "min         150.000000           0.000000    9.000000          12.00000   \n",
       "25%        2877.500000           0.000000  100.000000         360.00000   \n",
       "50%        3812.500000        1188.500000  128.000000         360.00000   \n",
       "75%        5795.000000        2297.250000  168.000000         360.00000   \n",
       "max       81000.000000       41667.000000  700.000000         480.00000   \n",
       "\n",
       "       Credit_History  \n",
       "count      564.000000  \n",
       "mean         0.842199  \n",
       "std          0.364878  \n",
       "min          0.000000  \n",
       "25%          1.000000  \n",
       "50%          1.000000  \n",
       "75%          1.000000  \n",
       "max          1.000000  "
      ]
     },
     "execution_count": 4,
     "metadata": {},
     "output_type": "execute_result"
    }
   ],
   "source": [
    "df.describe()"
   ]
  },
  {
   "cell_type": "code",
   "execution_count": 5,
   "id": "lesser-passing",
   "metadata": {
    "execution": {
     "iopub.execute_input": "2021-04-05T20:22:36.959552Z",
     "iopub.status.busy": "2021-04-05T20:22:36.958824Z",
     "iopub.status.idle": "2021-04-05T20:22:36.963480Z",
     "shell.execute_reply": "2021-04-05T20:22:36.964042Z"
    },
    "papermill": {
     "duration": 0.073419,
     "end_time": "2021-04-05T20:22:36.964240",
     "exception": false,
     "start_time": "2021-04-05T20:22:36.890821",
     "status": "completed"
    },
    "tags": []
   },
   "outputs": [
    {
     "name": "stdout",
     "output_type": "stream",
     "text": [
      "<class 'pandas.core.frame.DataFrame'>\n",
      "RangeIndex: 614 entries, 0 to 613\n",
      "Data columns (total 13 columns):\n",
      " #   Column             Non-Null Count  Dtype  \n",
      "---  ------             --------------  -----  \n",
      " 0   Loan_ID            614 non-null    object \n",
      " 1   Gender             601 non-null    object \n",
      " 2   Married            611 non-null    object \n",
      " 3   Dependents         599 non-null    object \n",
      " 4   Education          614 non-null    object \n",
      " 5   Self_Employed      582 non-null    object \n",
      " 6   ApplicantIncome    614 non-null    int64  \n",
      " 7   CoapplicantIncome  614 non-null    float64\n",
      " 8   LoanAmount         592 non-null    float64\n",
      " 9   Loan_Amount_Term   600 non-null    float64\n",
      " 10  Credit_History     564 non-null    float64\n",
      " 11  Property_Area      614 non-null    object \n",
      " 12  Loan_Status        614 non-null    object \n",
      "dtypes: float64(4), int64(1), object(8)\n",
      "memory usage: 62.5+ KB\n"
     ]
    }
   ],
   "source": [
    "df.info()"
   ]
  },
  {
   "cell_type": "markdown",
   "id": "distributed-criterion",
   "metadata": {
    "papermill": {
     "duration": 0.050362,
     "end_time": "2021-04-05T20:22:37.064843",
     "exception": false,
     "start_time": "2021-04-05T20:22:37.014481",
     "status": "completed"
    },
    "tags": []
   },
   "source": [
    "## PREPROCESSING THE DATASET"
   ]
  },
  {
   "cell_type": "code",
   "execution_count": 6,
   "id": "adult-pride",
   "metadata": {
    "execution": {
     "iopub.execute_input": "2021-04-05T20:22:37.173416Z",
     "iopub.status.busy": "2021-04-05T20:22:37.172506Z",
     "iopub.status.idle": "2021-04-05T20:22:37.177918Z",
     "shell.execute_reply": "2021-04-05T20:22:37.177171Z"
    },
    "papermill": {
     "duration": 0.06366,
     "end_time": "2021-04-05T20:22:37.178091",
     "exception": false,
     "start_time": "2021-04-05T20:22:37.114431",
     "status": "completed"
    },
    "tags": []
   },
   "outputs": [
    {
     "data": {
      "text/plain": [
       "Loan_ID               0\n",
       "Gender               13\n",
       "Married               3\n",
       "Dependents           15\n",
       "Education             0\n",
       "Self_Employed        32\n",
       "ApplicantIncome       0\n",
       "CoapplicantIncome     0\n",
       "LoanAmount           22\n",
       "Loan_Amount_Term     14\n",
       "Credit_History       50\n",
       "Property_Area         0\n",
       "Loan_Status           0\n",
       "dtype: int64"
      ]
     },
     "execution_count": 6,
     "metadata": {},
     "output_type": "execute_result"
    }
   ],
   "source": [
    "#Null values:\n",
    "df.isnull().sum()"
   ]
  },
  {
   "cell_type": "code",
   "execution_count": 7,
   "id": "prospective-hostel",
   "metadata": {
    "execution": {
     "iopub.execute_input": "2021-04-05T20:22:37.288442Z",
     "iopub.status.busy": "2021-04-05T20:22:37.286732Z",
     "iopub.status.idle": "2021-04-05T20:22:37.292387Z",
     "shell.execute_reply": "2021-04-05T20:22:37.291833Z"
    },
    "papermill": {
     "duration": 0.063594,
     "end_time": "2021-04-05T20:22:37.292555",
     "exception": false,
     "start_time": "2021-04-05T20:22:37.228961",
     "status": "completed"
    },
    "tags": []
   },
   "outputs": [],
   "source": [
    "#filling the missing values for numerical terms with the help of mean\n",
    "df ['LoanAmount'] = df ['LoanAmount'].fillna(df['LoanAmount'].mean())\n",
    "df ['Loan_Amount_Term'] = df ['Loan_Amount_Term'].fillna(df['Loan_Amount_Term'].mean())\n",
    "df ['Credit_History'] = df ['Credit_History'].fillna(df['Credit_History'].mean())"
   ]
  },
  {
   "cell_type": "code",
   "execution_count": 8,
   "id": "killing-peeing",
   "metadata": {
    "execution": {
     "iopub.execute_input": "2021-04-05T20:22:37.406271Z",
     "iopub.status.busy": "2021-04-05T20:22:37.405274Z",
     "iopub.status.idle": "2021-04-05T20:22:37.408834Z",
     "shell.execute_reply": "2021-04-05T20:22:37.409304Z"
    },
    "papermill": {
     "duration": 0.066372,
     "end_time": "2021-04-05T20:22:37.409529",
     "exception": false,
     "start_time": "2021-04-05T20:22:37.343157",
     "status": "completed"
    },
    "tags": []
   },
   "outputs": [],
   "source": [
    "#filling the missing values for categorical terms with the help of mode\n",
    "df ['Gender'] = df ['Gender'].fillna(df['Gender'].mode()[0])\n",
    "df ['Married'] = df ['Married'].fillna(df['Married'].mode()[0])\n",
    "df ['Dependents'] = df ['Dependents'].fillna(df['Dependents'].mode()[0])\n",
    "df ['Self_Employed'] = df ['Self_Employed'].fillna(df['Self_Employed'].mode()[0])"
   ]
  },
  {
   "cell_type": "code",
   "execution_count": 9,
   "id": "elect-english",
   "metadata": {
    "execution": {
     "iopub.execute_input": "2021-04-05T20:22:37.521049Z",
     "iopub.status.busy": "2021-04-05T20:22:37.520327Z",
     "iopub.status.idle": "2021-04-05T20:22:37.525760Z",
     "shell.execute_reply": "2021-04-05T20:22:37.525182Z"
    },
    "papermill": {
     "duration": 0.065617,
     "end_time": "2021-04-05T20:22:37.525913",
     "exception": false,
     "start_time": "2021-04-05T20:22:37.460296",
     "status": "completed"
    },
    "tags": []
   },
   "outputs": [
    {
     "data": {
      "text/plain": [
       "Loan_ID              0\n",
       "Gender               0\n",
       "Married              0\n",
       "Dependents           0\n",
       "Education            0\n",
       "Self_Employed        0\n",
       "ApplicantIncome      0\n",
       "CoapplicantIncome    0\n",
       "LoanAmount           0\n",
       "Loan_Amount_Term     0\n",
       "Credit_History       0\n",
       "Property_Area        0\n",
       "Loan_Status          0\n",
       "dtype: int64"
      ]
     },
     "execution_count": 9,
     "metadata": {},
     "output_type": "execute_result"
    }
   ],
   "source": [
    "df.isnull().sum()"
   ]
  },
  {
   "cell_type": "code",
   "execution_count": 10,
   "id": "9a0dac0b",
   "metadata": {},
   "outputs": [],
   "source": [
    "df1=df['Loan_Status'].value_counts()\n",
    "df1\n",
    "keys=['Approved Loan','Not Approved']"
   ]
  },
  {
   "cell_type": "code",
   "execution_count": 11,
   "id": "18b357dc",
   "metadata": {},
   "outputs": [
    {
     "data": {
      "text/plain": [
       "Y    422\n",
       "N    192\n",
       "Name: Loan_Status, dtype: int64"
      ]
     },
     "execution_count": 11,
     "metadata": {},
     "output_type": "execute_result"
    }
   ],
   "source": [
    "df1"
   ]
  },
  {
   "cell_type": "code",
   "execution_count": 12,
   "id": "516e3735",
   "metadata": {},
   "outputs": [
    {
     "data": {
      "image/png": "[encoded data removed]",
      "text/plain": [
       "<Figure size 432x288 with 1 Axes>"
      ]
     },
     "metadata": {},
     "output_type": "display_data"
    }
   ],
   "source": [
    "plt.pie(df1,labels=keys,autopct='%1.2f%%')\n",
    "plt.title(\"Ratio of the Approved V/S Not Approved\")\n",
    "plt.show()"
   ]
  },
  {
   "cell_type": "code",
   "execution_count": 13,
   "id": "c2ebc915",
   "metadata": {},
   "outputs": [],
   "source": [
    "from imblearn.over_sampling import RandomOverSampler, SMOTE\n",
    "from collections import Counter"
   ]
  },
  {
   "cell_type": "code",
   "execution_count": 14,
   "id": "f20644b5",
   "metadata": {},
   "outputs": [
    {
     "name": "stdout",
     "output_type": "stream",
     "text": [
      "[('N', 422), ('Y', 422)]\n"
     ]
    }
   ],
   "source": [
    "# Randomly over sample the minority class\n",
    "ros = RandomOverSampler(random_state=42)\n",
    "X, y = ros.fit_resample(df. loc[:, df. columns != \"Loan_Status\"], df[\"Loan_Status\"])\n",
    "# Check the number of records after over sampling\n",
    "print(sorted(Counter(y).items()))"
   ]
  },
  {
   "cell_type": "code",
   "execution_count": 15,
   "id": "9af8a62d",
   "metadata": {},
   "outputs": [],
   "source": [
    "df = pd.concat([X,y] , axis=1)"
   ]
  },
  {
   "cell_type": "markdown",
   "id": "impressive-boost",
   "metadata": {
    "papermill": {
     "duration": 0.051707,
     "end_time": "2021-04-05T20:22:37.628656",
     "exception": false,
     "start_time": "2021-04-05T20:22:37.576949",
     "status": "completed"
    },
    "tags": []
   },
   "source": [
    "## EXPLORATORY DATA ANALYSIS:"
   ]
  },
  {
   "cell_type": "markdown",
   "id": "refined-stone",
   "metadata": {
    "papermill": {
     "duration": 0.051313,
     "end_time": "2021-04-05T20:22:37.731704",
     "exception": false,
     "start_time": "2021-04-05T20:22:37.680391",
     "status": "completed"
    },
    "tags": []
   },
   "source": [
    "##### CATEGORICAL ATTRIBUTE VISUALIZATION:"
   ]
  },
  {
   "cell_type": "code",
   "execution_count": 16,
   "id": "angry-bread",
   "metadata": {
    "execution": {
     "iopub.execute_input": "2021-04-05T20:22:37.839955Z",
     "iopub.status.busy": "2021-04-05T20:22:37.839284Z",
     "iopub.status.idle": "2021-04-05T20:22:37.993682Z",
     "shell.execute_reply": "2021-04-05T20:22:37.993007Z"
    },
    "papermill": {
     "duration": 0.21075,
     "end_time": "2021-04-05T20:22:37.993828",
     "exception": false,
     "start_time": "2021-04-05T20:22:37.783078",
     "status": "completed"
    },
    "tags": []
   },
   "outputs": [
    {
     "data": {
      "text/plain": [
       "<AxesSubplot:xlabel='Gender', ylabel='count'>"
      ]
     },
     "execution_count": 16,
     "metadata": {},
     "output_type": "execute_result"
    },
    {
     "data": {
      "image/png": "[encoded data removed]",
      "text/plain": [
       "<Figure size 432x288 with 1 Axes>"
      ]
     },
     "metadata": {
      "needs_background": "light"
     },
     "output_type": "display_data"
    }
   ],
   "source": [
    "sns.countplot(df['Gender'])"
   ]
  },
  {
   "cell_type": "code",
   "execution_count": 17,
   "id": "identified-dynamics",
   "metadata": {
    "execution": {
     "iopub.execute_input": "2021-04-05T20:22:38.108851Z",
     "iopub.status.busy": "2021-04-05T20:22:38.107720Z",
     "iopub.status.idle": "2021-04-05T20:22:38.238496Z",
     "shell.execute_reply": "2021-04-05T20:22:38.237182Z"
    },
    "papermill": {
     "duration": 0.19144,
     "end_time": "2021-04-05T20:22:38.238731",
     "exception": false,
     "start_time": "2021-04-05T20:22:38.047291",
     "status": "completed"
    },
    "tags": []
   },
   "outputs": [
    {
     "data": {
      "text/plain": [
       "<AxesSubplot:xlabel='Married', ylabel='count'>"
      ]
     },
     "execution_count": 17,
     "metadata": {},
     "output_type": "execute_result"
    },
    {
     "data": {
      "image/png": "[encoded data removed]",
      "text/plain": [
       "<Figure size 432x288 with 1 Axes>"
      ]
     },
     "metadata": {
      "needs_background": "light"
     },
     "output_type": "display_data"
    }
   ],
   "source": [
    "sns.countplot(df['Married'])"
   ]
  },
  {
   "cell_type": "code",
   "execution_count": 18,
   "id": "assumed-dining",
   "metadata": {
    "execution": {
     "iopub.execute_input": "2021-04-05T20:22:38.375248Z",
     "iopub.status.busy": "2021-04-05T20:22:38.365129Z",
     "iopub.status.idle": "2021-04-05T20:22:38.497877Z",
     "shell.execute_reply": "2021-04-05T20:22:38.496872Z"
    },
    "papermill": {
     "duration": 0.204846,
     "end_time": "2021-04-05T20:22:38.498056",
     "exception": false,
     "start_time": "2021-04-05T20:22:38.293210",
     "status": "completed"
    },
    "tags": []
   },
   "outputs": [
    {
     "data": {
      "text/plain": [
       "<AxesSubplot:xlabel='Dependents', ylabel='count'>"
      ]
     },
     "execution_count": 18,
     "metadata": {},
     "output_type": "execute_result"
    },
    {
     "data": {
      "image/png": "[encoded data removed]",
      "text/plain": [
       "<Figure size 432x288 with 1 Axes>"
      ]
     },
     "metadata": {
      "needs_background": "light"
     },
     "output_type": "display_data"
    }
   ],
   "source": [
    "sns.countplot(df['Dependents'])"
   ]
  },
  {
   "cell_type": "code",
   "execution_count": 19,
   "id": "suited-commissioner",
   "metadata": {
    "execution": {
     "iopub.execute_input": "2021-04-05T20:22:38.634214Z",
     "iopub.status.busy": "2021-04-05T20:22:38.622774Z",
     "iopub.status.idle": "2021-04-05T20:22:38.737437Z",
     "shell.execute_reply": "2021-04-05T20:22:38.736918Z"
    },
    "papermill": {
     "duration": 0.180851,
     "end_time": "2021-04-05T20:22:38.737601",
     "exception": false,
     "start_time": "2021-04-05T20:22:38.556750",
     "status": "completed"
    },
    "tags": []
   },
   "outputs": [
    {
     "data": {
      "text/plain": [
       "<AxesSubplot:xlabel='Education', ylabel='count'>"
      ]
     },
     "execution_count": 19,
     "metadata": {},
     "output_type": "execute_result"
    },
    {
     "data": {
      "image/png": "[encoded data removed]",
      "text/plain": [
       "<Figure size 432x288 with 1 Axes>"
      ]
     },
     "metadata": {
      "needs_background": "light"
     },
     "output_type": "display_data"
    }
   ],
   "source": [
    "sns.countplot(df['Education'])"
   ]
  },
  {
   "cell_type": "code",
   "execution_count": 20,
   "id": "living-residence",
   "metadata": {
    "execution": {
     "iopub.execute_input": "2021-04-05T20:22:38.858667Z",
     "iopub.status.busy": "2021-04-05T20:22:38.857310Z",
     "iopub.status.idle": "2021-04-05T20:22:38.975275Z",
     "shell.execute_reply": "2021-04-05T20:22:38.974578Z"
    },
    "papermill": {
     "duration": 0.181001,
     "end_time": "2021-04-05T20:22:38.975419",
     "exception": false,
     "start_time": "2021-04-05T20:22:38.794418",
     "status": "completed"
    },
    "tags": []
   },
   "outputs": [
    {
     "data": {
      "text/plain": [
       "<AxesSubplot:xlabel='Self_Employed', ylabel='count'>"
      ]
     },
     "execution_count": 20,
     "metadata": {},
     "output_type": "execute_result"
    },
    {
     "data": {
      "image/png": "[encoded data removed]",
      "text/plain": [
       "<Figure size 432x288 with 1 Axes>"
      ]
     },
     "metadata": {
      "needs_background": "light"
     },
     "output_type": "display_data"
    }
   ],
   "source": [
    "sns.countplot(df['Self_Employed'])"
   ]
  },
  {
   "cell_type": "code",
   "execution_count": 21,
   "id": "complimentary-graduate",
   "metadata": {
    "execution": {
     "iopub.execute_input": "2021-04-05T20:22:39.101002Z",
     "iopub.status.busy": "2021-04-05T20:22:39.099189Z",
     "iopub.status.idle": "2021-04-05T20:22:39.222603Z",
     "shell.execute_reply": "2021-04-05T20:22:39.221936Z"
    },
    "papermill": {
     "duration": 0.189266,
     "end_time": "2021-04-05T20:22:39.222738",
     "exception": false,
     "start_time": "2021-04-05T20:22:39.033472",
     "status": "completed"
    },
    "tags": []
   },
   "outputs": [
    {
     "data": {
      "text/plain": [
       "<AxesSubplot:xlabel='Property_Area', ylabel='count'>"
      ]
     },
     "execution_count": 21,
     "metadata": {},
     "output_type": "execute_result"
    },
    {
     "data": {
      "image/png": "[encoded data removed]",
      "text/plain": [
       "<Figure size 432x288 with 1 Axes>"
      ]
     },
     "metadata": {
      "needs_background": "light"
     },
     "output_type": "display_data"
    }
   ],
   "source": [
    "sns.countplot(df['Property_Area'])"
   ]
  },
  {
   "cell_type": "code",
   "execution_count": 22,
   "id": "behind-lexington",
   "metadata": {
    "execution": {
     "iopub.execute_input": "2021-04-05T20:22:39.358375Z",
     "iopub.status.busy": "2021-04-05T20:22:39.350377Z",
     "iopub.status.idle": "2021-04-05T20:22:39.483426Z",
     "shell.execute_reply": "2021-04-05T20:22:39.484079Z"
    },
    "papermill": {
     "duration": 0.20224,
     "end_time": "2021-04-05T20:22:39.484296",
     "exception": false,
     "start_time": "2021-04-05T20:22:39.282056",
     "status": "completed"
    },
    "tags": []
   },
   "outputs": [
    {
     "data": {
      "text/plain": [
       "<AxesSubplot:xlabel='Loan_Status', ylabel='count'>"
      ]
     },
     "execution_count": 22,
     "metadata": {},
     "output_type": "execute_result"
    },
    {
     "data": {
      "image/png": "[encoded data removed]",
      "text/plain": [
       "<Figure size 432x288 with 1 Axes>"
      ]
     },
     "metadata": {
      "needs_background": "light"
     },
     "output_type": "display_data"
    }
   ],
   "source": [
    "sns.countplot(df['Loan_Status'])"
   ]
  },
  {
   "cell_type": "markdown",
   "id": "sixth-complexity",
   "metadata": {
    "papermill": {
     "duration": 0.060628,
     "end_time": "2021-04-05T20:22:39.607097",
     "exception": false,
     "start_time": "2021-04-05T20:22:39.546469",
     "status": "completed"
    },
    "tags": []
   },
   "source": [
    "##### NUMERICAL ATTRIBUTE VISUALIZATION:"
   ]
  },
  {
   "cell_type": "code",
   "execution_count": 23,
   "id": "collect-character",
   "metadata": {
    "execution": {
     "iopub.execute_input": "2021-04-05T20:22:39.737497Z",
     "iopub.status.busy": "2021-04-05T20:22:39.736670Z",
     "iopub.status.idle": "2021-04-05T20:22:40.023624Z",
     "shell.execute_reply": "2021-04-05T20:22:40.022909Z"
    },
    "papermill": {
     "duration": 0.355104,
     "end_time": "2021-04-05T20:22:40.023782",
     "exception": false,
     "start_time": "2021-04-05T20:22:39.668678",
     "status": "completed"
    },
    "tags": []
   },
   "outputs": [
    {
     "data": {
      "text/plain": [
       "<AxesSubplot:xlabel='ApplicantIncome', ylabel='Density'>"
      ]
     },
     "execution_count": 23,
     "metadata": {},
     "output_type": "execute_result"
    },
    {
     "data": {
      "image/png": "[encoded data removed]",
      "text/plain": [
       "<Figure size 432x288 with 1 Axes>"
      ]
     },
     "metadata": {
      "needs_background": "light"
     },
     "output_type": "display_data"
    }
   ],
   "source": [
    "sns.distplot(df['ApplicantIncome'])"
   ]
  },
  {
   "cell_type": "code",
   "execution_count": 24,
   "id": "divided-casting",
   "metadata": {
    "execution": {
     "iopub.execute_input": "2021-04-05T20:22:40.161266Z",
     "iopub.status.busy": "2021-04-05T20:22:40.160013Z",
     "iopub.status.idle": "2021-04-05T20:22:40.165693Z",
     "shell.execute_reply": "2021-04-05T20:22:40.164663Z"
    },
    "papermill": {
     "duration": 0.076009,
     "end_time": "2021-04-05T20:22:40.165866",
     "exception": false,
     "start_time": "2021-04-05T20:22:40.089857",
     "status": "completed"
    },
    "tags": []
   },
   "outputs": [],
   "source": [
    "df['ApplicantIncome'] = np.log(df['ApplicantIncome'])"
   ]
  },
  {
   "cell_type": "code",
   "execution_count": 25,
   "id": "automotive-dominant",
   "metadata": {
    "execution": {
     "iopub.execute_input": "2021-04-05T20:22:40.318447Z",
     "iopub.status.busy": "2021-04-05T20:22:40.315870Z",
     "iopub.status.idle": "2021-04-05T20:22:40.541632Z",
     "shell.execute_reply": "2021-04-05T20:22:40.540969Z"
    },
    "papermill": {
     "duration": 0.312302,
     "end_time": "2021-04-05T20:22:40.541801",
     "exception": false,
     "start_time": "2021-04-05T20:22:40.229499",
     "status": "completed"
    },
    "tags": []
   },
   "outputs": [
    {
     "data": {
      "text/plain": [
       "<AxesSubplot:xlabel='ApplicantIncome', ylabel='Density'>"
      ]
     },
     "execution_count": 25,
     "metadata": {},
     "output_type": "execute_result"
    },
    {
     "data": {
      "image/png": "[encoded data removed]",
      "text/plain": [
       "<Figure size 432x288 with 1 Axes>"
      ]
     },
     "metadata": {
      "needs_background": "light"
     },
     "output_type": "display_data"
    }
   ],
   "source": [
    "sns.distplot(df['ApplicantIncome'])"
   ]
  },
  {
   "cell_type": "code",
   "execution_count": 26,
   "id": "surgical-arbor",
   "metadata": {
    "execution": {
     "iopub.execute_input": "2021-04-05T20:22:40.693564Z",
     "iopub.status.busy": "2021-04-05T20:22:40.692595Z",
     "iopub.status.idle": "2021-04-05T20:22:40.697594Z",
     "shell.execute_reply": "2021-04-05T20:22:40.696935Z"
    },
    "papermill": {
     "duration": 0.091302,
     "end_time": "2021-04-05T20:22:40.697750",
     "exception": false,
     "start_time": "2021-04-05T20:22:40.606448",
     "status": "completed"
    },
    "tags": []
   },
   "outputs": [
    {
     "data": {
      "text/html": [
       "<div>\n",
       "<style scoped>\n",
       "    .dataframe tbody tr th:only-of-type {\n",
       "        vertical-align: middle;\n",
       "    }\n",
       "\n",
       "    .dataframe tbody tr th {\n",
       "        vertical-align: top;\n",
       "    }\n",
       "\n",
       "    .dataframe thead th {\n",
       "        text-align: right;\n",
       "    }\n",
       "</style>\n",
       "<table border=\"1\" class=\"dataframe\">\n",
       "  <thead>\n",
       "    <tr style=\"text-align: right;\">\n",
       "      <th></th>\n",
       "      <th>Loan_ID</th>\n",
       "      <th>Gender</th>\n",
       "      <th>Married</th>\n",
       "      <th>Dependents</th>\n",
       "      <th>Education</th>\n",
       "      <th>Self_Employed</th>\n",
       "      <th>ApplicantIncome</th>\n",
       "      <th>CoapplicantIncome</th>\n",
       "      <th>LoanAmount</th>\n",
       "      <th>Loan_Amount_Term</th>\n",
       "      <th>Credit_History</th>\n",
       "      <th>Property_Area</th>\n",
       "      <th>Loan_Status</th>\n",
       "    </tr>\n",
       "  </thead>\n",
       "  <tbody>\n",
       "    <tr>\n",
       "      <th>0</th>\n",
       "      <td>LP001002</td>\n",
       "      <td>Male</td>\n",
       "      <td>No</td>\n",
       "      <td>0</td>\n",
       "      <td>Graduate</td>\n",
       "      <td>No</td>\n",
       "      <td>8.674026</td>\n",
       "      <td>0.0</td>\n",
       "      <td>146.412162</td>\n",
       "      <td>360.0</td>\n",
       "      <td>1.0</td>\n",
       "      <td>Urban</td>\n",
       "      <td>Y</td>\n",
       "    </tr>\n",
       "    <tr>\n",
       "      <th>1</th>\n",
       "      <td>LP001003</td>\n",
       "      <td>Male</td>\n",
       "      <td>Yes</td>\n",
       "      <td>1</td>\n",
       "      <td>Graduate</td>\n",
       "      <td>No</td>\n",
       "      <td>8.430109</td>\n",
       "      <td>1508.0</td>\n",
       "      <td>128.000000</td>\n",
       "      <td>360.0</td>\n",
       "      <td>1.0</td>\n",
       "      <td>Rural</td>\n",
       "      <td>N</td>\n",
       "    </tr>\n",
       "    <tr>\n",
       "      <th>2</th>\n",
       "      <td>LP001005</td>\n",
       "      <td>Male</td>\n",
       "      <td>Yes</td>\n",
       "      <td>0</td>\n",
       "      <td>Graduate</td>\n",
       "      <td>Yes</td>\n",
       "      <td>8.006368</td>\n",
       "      <td>0.0</td>\n",
       "      <td>66.000000</td>\n",
       "      <td>360.0</td>\n",
       "      <td>1.0</td>\n",
       "      <td>Urban</td>\n",
       "      <td>Y</td>\n",
       "    </tr>\n",
       "    <tr>\n",
       "      <th>3</th>\n",
       "      <td>LP001006</td>\n",
       "      <td>Male</td>\n",
       "      <td>Yes</td>\n",
       "      <td>0</td>\n",
       "      <td>Not Graduate</td>\n",
       "      <td>No</td>\n",
       "      <td>7.856707</td>\n",
       "      <td>2358.0</td>\n",
       "      <td>120.000000</td>\n",
       "      <td>360.0</td>\n",
       "      <td>1.0</td>\n",
       "      <td>Urban</td>\n",
       "      <td>Y</td>\n",
       "    </tr>\n",
       "    <tr>\n",
       "      <th>4</th>\n",
       "      <td>LP001008</td>\n",
       "      <td>Male</td>\n",
       "      <td>No</td>\n",
       "      <td>0</td>\n",
       "      <td>Graduate</td>\n",
       "      <td>No</td>\n",
       "      <td>8.699515</td>\n",
       "      <td>0.0</td>\n",
       "      <td>141.000000</td>\n",
       "      <td>360.0</td>\n",
       "      <td>1.0</td>\n",
       "      <td>Urban</td>\n",
       "      <td>Y</td>\n",
       "    </tr>\n",
       "  </tbody>\n",
       "</table>\n",
       "</div>"
      ],
      "text/plain": [
       "    Loan_ID Gender Married Dependents     Education Self_Employed  \\\n",
       "0  LP001002   Male      No          0      Graduate            No   \n",
       "1  LP001003   Male     Yes          1      Graduate            No   \n",
       "2  LP001005   Male     Yes          0      Graduate           Yes   \n",
       "3  LP001006   Male     Yes          0  Not Graduate            No   \n",
       "4  LP001008   Male      No          0      Graduate            No   \n",
       "\n",
       "   ApplicantIncome  CoapplicantIncome  LoanAmount  Loan_Amount_Term  \\\n",
       "0         8.674026                0.0  146.412162             360.0   \n",
       "1         8.430109             1508.0  128.000000             360.0   \n",
       "2         8.006368                0.0   66.000000             360.0   \n",
       "3         7.856707             2358.0  120.000000             360.0   \n",
       "4         8.699515                0.0  141.000000             360.0   \n",
       "\n",
       "   Credit_History Property_Area Loan_Status  \n",
       "0             1.0         Urban           Y  \n",
       "1             1.0         Rural           N  \n",
       "2             1.0         Urban           Y  \n",
       "3             1.0         Urban           Y  \n",
       "4             1.0         Urban           Y  "
      ]
     },
     "execution_count": 26,
     "metadata": {},
     "output_type": "execute_result"
    }
   ],
   "source": [
    "df.head()"
   ]
  },
  {
   "cell_type": "code",
   "execution_count": 27,
   "id": "linear-chile",
   "metadata": {
    "execution": {
     "iopub.execute_input": "2021-04-05T20:22:40.852891Z",
     "iopub.status.busy": "2021-04-05T20:22:40.851597Z",
     "iopub.status.idle": "2021-04-05T20:22:41.095918Z",
     "shell.execute_reply": "2021-04-05T20:22:41.095372Z"
    },
    "papermill": {
     "duration": 0.332955,
     "end_time": "2021-04-05T20:22:41.096067",
     "exception": false,
     "start_time": "2021-04-05T20:22:40.763112",
     "status": "completed"
    },
    "tags": []
   },
   "outputs": [
    {
     "data": {
      "text/plain": [
       "<AxesSubplot:xlabel='CoapplicantIncome', ylabel='Density'>"
      ]
     },
     "execution_count": 27,
     "metadata": {},
     "output_type": "execute_result"
    },
    {
     "data": {
      "image/png": "[encoded data removed]",
      "text/plain": [
       "<Figure size 432x288 with 1 Axes>"
      ]
     },
     "metadata": {
      "needs_background": "light"
     },
     "output_type": "display_data"
    }
   ],
   "source": [
    "sns.distplot(df['CoapplicantIncome'])"
   ]
  },
  {
   "cell_type": "code",
   "execution_count": 28,
   "id": "completed-bolivia",
   "metadata": {
    "execution": {
     "iopub.execute_input": "2021-04-05T20:22:41.236052Z",
     "iopub.status.busy": "2021-04-05T20:22:41.235195Z",
     "iopub.status.idle": "2021-04-05T20:22:41.238133Z",
     "shell.execute_reply": "2021-04-05T20:22:41.238612Z"
    },
    "papermill": {
     "duration": 0.07646,
     "end_time": "2021-04-05T20:22:41.238784",
     "exception": false,
     "start_time": "2021-04-05T20:22:41.162324",
     "status": "completed"
    },
    "tags": []
   },
   "outputs": [],
   "source": [
    "df['CoapplicantIncome'] = np.log(df['CoapplicantIncome']+1)"
   ]
  },
  {
   "cell_type": "code",
   "execution_count": 29,
   "id": "homeless-politics",
   "metadata": {
    "execution": {
     "iopub.execute_input": "2021-04-05T20:22:41.383960Z",
     "iopub.status.busy": "2021-04-05T20:22:41.383247Z",
     "iopub.status.idle": "2021-04-05T20:22:41.397354Z",
     "shell.execute_reply": "2021-04-05T20:22:41.396769Z"
    },
    "papermill": {
     "duration": 0.092088,
     "end_time": "2021-04-05T20:22:41.397490",
     "exception": false,
     "start_time": "2021-04-05T20:22:41.305402",
     "status": "completed"
    },
    "tags": []
   },
   "outputs": [
    {
     "data": {
      "text/html": [
       "<div>\n",
       "<style scoped>\n",
       "    .dataframe tbody tr th:only-of-type {\n",
       "        vertical-align: middle;\n",
       "    }\n",
       "\n",
       "    .dataframe tbody tr th {\n",
       "        vertical-align: top;\n",
       "    }\n",
       "\n",
       "    .dataframe thead th {\n",
       "        text-align: right;\n",
       "    }\n",
       "</style>\n",
       "<table border=\"1\" class=\"dataframe\">\n",
       "  <thead>\n",
       "    <tr style=\"text-align: right;\">\n",
       "      <th></th>\n",
       "      <th>Loan_ID</th>\n",
       "      <th>Gender</th>\n",
       "      <th>Married</th>\n",
       "      <th>Dependents</th>\n",
       "      <th>Education</th>\n",
       "      <th>Self_Employed</th>\n",
       "      <th>ApplicantIncome</th>\n",
       "      <th>CoapplicantIncome</th>\n",
       "      <th>LoanAmount</th>\n",
       "      <th>Loan_Amount_Term</th>\n",
       "      <th>Credit_History</th>\n",
       "      <th>Property_Area</th>\n",
       "      <th>Loan_Status</th>\n",
       "    </tr>\n",
       "  </thead>\n",
       "  <tbody>\n",
       "    <tr>\n",
       "      <th>0</th>\n",
       "      <td>LP001002</td>\n",
       "      <td>Male</td>\n",
       "      <td>No</td>\n",
       "      <td>0</td>\n",
       "      <td>Graduate</td>\n",
       "      <td>No</td>\n",
       "      <td>8.674026</td>\n",
       "      <td>0.000000</td>\n",
       "      <td>146.412162</td>\n",
       "      <td>360.0</td>\n",
       "      <td>1.0</td>\n",
       "      <td>Urban</td>\n",
       "      <td>Y</td>\n",
       "    </tr>\n",
       "    <tr>\n",
       "      <th>1</th>\n",
       "      <td>LP001003</td>\n",
       "      <td>Male</td>\n",
       "      <td>Yes</td>\n",
       "      <td>1</td>\n",
       "      <td>Graduate</td>\n",
       "      <td>No</td>\n",
       "      <td>8.430109</td>\n",
       "      <td>7.319202</td>\n",
       "      <td>128.000000</td>\n",
       "      <td>360.0</td>\n",
       "      <td>1.0</td>\n",
       "      <td>Rural</td>\n",
       "      <td>N</td>\n",
       "    </tr>\n",
       "    <tr>\n",
       "      <th>2</th>\n",
       "      <td>LP001005</td>\n",
       "      <td>Male</td>\n",
       "      <td>Yes</td>\n",
       "      <td>0</td>\n",
       "      <td>Graduate</td>\n",
       "      <td>Yes</td>\n",
       "      <td>8.006368</td>\n",
       "      <td>0.000000</td>\n",
       "      <td>66.000000</td>\n",
       "      <td>360.0</td>\n",
       "      <td>1.0</td>\n",
       "      <td>Urban</td>\n",
       "      <td>Y</td>\n",
       "    </tr>\n",
       "    <tr>\n",
       "      <th>3</th>\n",
       "      <td>LP001006</td>\n",
       "      <td>Male</td>\n",
       "      <td>Yes</td>\n",
       "      <td>0</td>\n",
       "      <td>Not Graduate</td>\n",
       "      <td>No</td>\n",
       "      <td>7.856707</td>\n",
       "      <td>7.765993</td>\n",
       "      <td>120.000000</td>\n",
       "      <td>360.0</td>\n",
       "      <td>1.0</td>\n",
       "      <td>Urban</td>\n",
       "      <td>Y</td>\n",
       "    </tr>\n",
       "    <tr>\n",
       "      <th>4</th>\n",
       "      <td>LP001008</td>\n",
       "      <td>Male</td>\n",
       "      <td>No</td>\n",
       "      <td>0</td>\n",
       "      <td>Graduate</td>\n",
       "      <td>No</td>\n",
       "      <td>8.699515</td>\n",
       "      <td>0.000000</td>\n",
       "      <td>141.000000</td>\n",
       "      <td>360.0</td>\n",
       "      <td>1.0</td>\n",
       "      <td>Urban</td>\n",
       "      <td>Y</td>\n",
       "    </tr>\n",
       "  </tbody>\n",
       "</table>\n",
       "</div>"
      ],
      "text/plain": [
       "    Loan_ID Gender Married Dependents     Education Self_Employed  \\\n",
       "0  LP001002   Male      No          0      Graduate            No   \n",
       "1  LP001003   Male     Yes          1      Graduate            No   \n",
       "2  LP001005   Male     Yes          0      Graduate           Yes   \n",
       "3  LP001006   Male     Yes          0  Not Graduate            No   \n",
       "4  LP001008   Male      No          0      Graduate            No   \n",
       "\n",
       "   ApplicantIncome  CoapplicantIncome  LoanAmount  Loan_Amount_Term  \\\n",
       "0         8.674026           0.000000  146.412162             360.0   \n",
       "1         8.430109           7.319202  128.000000             360.0   \n",
       "2         8.006368           0.000000   66.000000             360.0   \n",
       "3         7.856707           7.765993  120.000000             360.0   \n",
       "4         8.699515           0.000000  141.000000             360.0   \n",
       "\n",
       "   Credit_History Property_Area Loan_Status  \n",
       "0             1.0         Urban           Y  \n",
       "1             1.0         Rural           N  \n",
       "2             1.0         Urban           Y  \n",
       "3             1.0         Urban           Y  \n",
       "4             1.0         Urban           Y  "
      ]
     },
     "execution_count": 29,
     "metadata": {},
     "output_type": "execute_result"
    }
   ],
   "source": [
    "df.head()"
   ]
  },
  {
   "cell_type": "code",
   "execution_count": 30,
   "id": "white-blood",
   "metadata": {
    "execution": {
     "iopub.execute_input": "2021-04-05T20:22:41.555569Z",
     "iopub.status.busy": "2021-04-05T20:22:41.554750Z",
     "iopub.status.idle": "2021-04-05T20:22:41.720065Z",
     "shell.execute_reply": "2021-04-05T20:22:41.720572Z"
    },
    "papermill": {
     "duration": 0.255962,
     "end_time": "2021-04-05T20:22:41.720757",
     "exception": false,
     "start_time": "2021-04-05T20:22:41.464795",
     "status": "completed"
    },
    "tags": []
   },
   "outputs": [
    {
     "data": {
      "text/plain": [
       "<AxesSubplot:xlabel='CoapplicantIncome', ylabel='Density'>"
      ]
     },
     "execution_count": 30,
     "metadata": {},
     "output_type": "execute_result"
    },
    {
     "data": {
      "image/png": "[encoded data removed]",
      "text/plain": [
       "<Figure size 432x288 with 1 Axes>"
      ]
     },
     "metadata": {
      "needs_background": "light"
     },
     "output_type": "display_data"
    }
   ],
   "source": [
    "sns.distplot(df['CoapplicantIncome'])"
   ]
  },
  {
   "cell_type": "code",
   "execution_count": 31,
   "id": "determined-april",
   "metadata": {
    "execution": {
     "iopub.execute_input": "2021-04-05T20:22:41.883252Z",
     "iopub.status.busy": "2021-04-05T20:22:41.882576Z",
     "iopub.status.idle": "2021-04-05T20:22:42.113088Z",
     "shell.execute_reply": "2021-04-05T20:22:42.113608Z"
    },
    "papermill": {
     "duration": 0.323829,
     "end_time": "2021-04-05T20:22:42.113790",
     "exception": false,
     "start_time": "2021-04-05T20:22:41.789961",
     "status": "completed"
    },
    "tags": []
   },
   "outputs": [
    {
     "data": {
      "text/plain": [
       "<AxesSubplot:xlabel='LoanAmount', ylabel='Density'>"
      ]
     },
     "execution_count": 31,
     "metadata": {},
     "output_type": "execute_result"
    },
    {
     "data": {
      "image/png": "[encoded data removed]",
      "text/plain": [
       "<Figure size 432x288 with 1 Axes>"
      ]
     },
     "metadata": {
      "needs_background": "light"
     },
     "output_type": "display_data"
    }
   ],
   "source": [
    "sns.distplot(df['LoanAmount'])"
   ]
  },
  {
   "cell_type": "code",
   "execution_count": 32,
   "id": "intellectual-steel",
   "metadata": {
    "execution": {
     "iopub.execute_input": "2021-04-05T20:22:42.261863Z",
     "iopub.status.busy": "2021-04-05T20:22:42.261129Z",
     "iopub.status.idle": "2021-04-05T20:22:42.264721Z",
     "shell.execute_reply": "2021-04-05T20:22:42.264145Z"
    },
    "papermill": {
     "duration": 0.080137,
     "end_time": "2021-04-05T20:22:42.264870",
     "exception": false,
     "start_time": "2021-04-05T20:22:42.184733",
     "status": "completed"
    },
    "tags": []
   },
   "outputs": [],
   "source": [
    "df['LoanAmount'] = np.log(df['LoanAmount'])"
   ]
  },
  {
   "cell_type": "code",
   "execution_count": 33,
   "id": "occupied-paris",
   "metadata": {
    "execution": {
     "iopub.execute_input": "2021-04-05T20:22:42.584729Z",
     "iopub.status.busy": "2021-04-05T20:22:42.565566Z",
     "iopub.status.idle": "2021-04-05T20:22:42.796896Z",
     "shell.execute_reply": "2021-04-05T20:22:42.796202Z"
    },
    "papermill": {
     "duration": 0.461825,
     "end_time": "2021-04-05T20:22:42.797050",
     "exception": false,
     "start_time": "2021-04-05T20:22:42.335225",
     "status": "completed"
    },
    "tags": []
   },
   "outputs": [
    {
     "data": {
      "text/plain": [
       "<AxesSubplot:xlabel='LoanAmount', ylabel='Density'>"
      ]
     },
     "execution_count": 33,
     "metadata": {},
     "output_type": "execute_result"
    },
    {
     "data": {
      "image/png": "[encoded data removed]",
      "text/plain": [
       "<Figure size 432x288 with 1 Axes>"
      ]
     },
     "metadata": {
      "needs_background": "light"
     },
     "output_type": "display_data"
    }
   ],
   "source": [
    "sns.distplot(df['LoanAmount'])"
   ]
  },
  {
   "cell_type": "code",
   "execution_count": 34,
   "id": "hispanic-awareness",
   "metadata": {
    "execution": {
     "iopub.execute_input": "2021-04-05T20:22:42.973800Z",
     "iopub.status.busy": "2021-04-05T20:22:42.967673Z",
     "iopub.status.idle": "2021-04-05T20:22:43.173064Z",
     "shell.execute_reply": "2021-04-05T20:22:43.172171Z"
    },
    "papermill": {
     "duration": 0.303335,
     "end_time": "2021-04-05T20:22:43.173207",
     "exception": false,
     "start_time": "2021-04-05T20:22:42.869872",
     "status": "completed"
    },
    "tags": []
   },
   "outputs": [
    {
     "data": {
      "text/plain": [
       "<AxesSubplot:xlabel='Loan_Amount_Term', ylabel='Density'>"
      ]
     },
     "execution_count": 34,
     "metadata": {},
     "output_type": "execute_result"
    },
    {
     "data": {
      "image/png": "[encoded data removed]",
      "text/plain": [
       "<Figure size 432x288 with 1 Axes>"
      ]
     },
     "metadata": {
      "needs_background": "light"
     },
     "output_type": "display_data"
    }
   ],
   "source": [
    "sns.distplot(df['Loan_Amount_Term'])"
   ]
  },
  {
   "cell_type": "code",
   "execution_count": 35,
   "id": "acknowledged-pitch",
   "metadata": {
    "execution": {
     "iopub.execute_input": "2021-04-05T20:22:43.329090Z",
     "iopub.status.busy": "2021-04-05T20:22:43.328382Z",
     "iopub.status.idle": "2021-04-05T20:22:43.332373Z",
     "shell.execute_reply": "2021-04-05T20:22:43.331815Z"
    },
    "papermill": {
     "duration": 0.084249,
     "end_time": "2021-04-05T20:22:43.332526",
     "exception": false,
     "start_time": "2021-04-05T20:22:43.248277",
     "status": "completed"
    },
    "tags": []
   },
   "outputs": [],
   "source": [
    "df['Loan_Amount_Term'] = np.log(df['Loan_Amount_Term'])"
   ]
  },
  {
   "cell_type": "code",
   "execution_count": 36,
   "id": "acceptable-subscriber",
   "metadata": {
    "execution": {
     "iopub.execute_input": "2021-04-05T20:22:43.511230Z",
     "iopub.status.busy": "2021-04-05T20:22:43.510237Z",
     "iopub.status.idle": "2021-04-05T20:22:43.682641Z",
     "shell.execute_reply": "2021-04-05T20:22:43.683153Z"
    },
    "papermill": {
     "duration": 0.276414,
     "end_time": "2021-04-05T20:22:43.683365",
     "exception": false,
     "start_time": "2021-04-05T20:22:43.406951",
     "status": "completed"
    },
    "tags": []
   },
   "outputs": [
    {
     "data": {
      "text/plain": [
       "<AxesSubplot:xlabel='Loan_Amount_Term', ylabel='Density'>"
      ]
     },
     "execution_count": 36,
     "metadata": {},
     "output_type": "execute_result"
    },
    {
     "data": {
      "image/png": "[encoded data removed]",
      "text/plain": [
       "<Figure size 432x288 with 1 Axes>"
      ]
     },
     "metadata": {
      "needs_background": "light"
     },
     "output_type": "display_data"
    }
   ],
   "source": [
    "sns.distplot(df['Loan_Amount_Term'])"
   ]
  },
  {
   "cell_type": "code",
   "execution_count": 37,
   "id": "fancy-bathroom",
   "metadata": {
    "execution": {
     "iopub.execute_input": "2021-04-05T20:22:43.869177Z",
     "iopub.status.busy": "2021-04-05T20:22:43.868465Z",
     "iopub.status.idle": "2021-04-05T20:22:44.063485Z",
     "shell.execute_reply": "2021-04-05T20:22:44.064044Z"
    },
    "papermill": {
     "duration": 0.303074,
     "end_time": "2021-04-05T20:22:44.064249",
     "exception": false,
     "start_time": "2021-04-05T20:22:43.761175",
     "status": "completed"
    },
    "tags": []
   },
   "outputs": [
    {
     "data": {
      "text/plain": [
       "<AxesSubplot:xlabel='Credit_History', ylabel='Density'>"
      ]
     },
     "execution_count": 37,
     "metadata": {},
     "output_type": "execute_result"
    },
    {
     "data": {
      "image/png": "[encoded data removed]",
      "text/plain": [
       "<Figure size 432x288 with 1 Axes>"
      ]
     },
     "metadata": {
      "needs_background": "light"
     },
     "output_type": "display_data"
    }
   ],
   "source": [
    "sns.distplot(df['Credit_History'])"
   ]
  },
  {
   "cell_type": "markdown",
   "id": "powerful-concentrate",
   "metadata": {
    "papermill": {
     "duration": 0.078443,
     "end_time": "2021-04-05T20:22:44.220427",
     "exception": false,
     "start_time": "2021-04-05T20:22:44.141984",
     "status": "completed"
    },
    "tags": []
   },
   "source": [
    "## CREATING NEW ATTRIBUTES:"
   ]
  },
  {
   "cell_type": "code",
   "execution_count": 38,
   "id": "assumed-electronics",
   "metadata": {
    "execution": {
     "iopub.execute_input": "2021-04-05T20:22:44.383578Z",
     "iopub.status.busy": "2021-04-05T20:22:44.382890Z",
     "iopub.status.idle": "2021-04-05T20:22:44.386314Z",
     "shell.execute_reply": "2021-04-05T20:22:44.385588Z"
    },
    "papermill": {
     "duration": 0.088105,
     "end_time": "2021-04-05T20:22:44.386478",
     "exception": false,
     "start_time": "2021-04-05T20:22:44.298373",
     "status": "completed"
    },
    "tags": []
   },
   "outputs": [],
   "source": [
    "df['Total_Income'] = df['ApplicantIncome'] + df['CoapplicantIncome']"
   ]
  },
  {
   "cell_type": "code",
   "execution_count": 39,
   "id": "unable-feeding",
   "metadata": {
    "execution": {
     "iopub.execute_input": "2021-04-05T20:22:44.552025Z",
     "iopub.status.busy": "2021-04-05T20:22:44.551005Z",
     "iopub.status.idle": "2021-04-05T20:22:44.569041Z",
     "shell.execute_reply": "2021-04-05T20:22:44.569719Z"
    },
    "papermill": {
     "duration": 0.104719,
     "end_time": "2021-04-05T20:22:44.569915",
     "exception": false,
     "start_time": "2021-04-05T20:22:44.465196",
     "status": "completed"
    },
    "tags": []
   },
   "outputs": [
    {
     "data": {
      "text/html": [
       "<div>\n",
       "<style scoped>\n",
       "    .dataframe tbody tr th:only-of-type {\n",
       "        vertical-align: middle;\n",
       "    }\n",
       "\n",
       "    .dataframe tbody tr th {\n",
       "        vertical-align: top;\n",
       "    }\n",
       "\n",
       "    .dataframe thead th {\n",
       "        text-align: right;\n",
       "    }\n",
       "</style>\n",
       "<table border=\"1\" class=\"dataframe\">\n",
       "  <thead>\n",
       "    <tr style=\"text-align: right;\">\n",
       "      <th></th>\n",
       "      <th>Loan_ID</th>\n",
       "      <th>Gender</th>\n",
       "      <th>Married</th>\n",
       "      <th>Dependents</th>\n",
       "      <th>Education</th>\n",
       "      <th>Self_Employed</th>\n",
       "      <th>ApplicantIncome</th>\n",
       "      <th>CoapplicantIncome</th>\n",
       "      <th>LoanAmount</th>\n",
       "      <th>Loan_Amount_Term</th>\n",
       "      <th>Credit_History</th>\n",
       "      <th>Property_Area</th>\n",
       "      <th>Loan_Status</th>\n",
       "      <th>Total_Income</th>\n",
       "    </tr>\n",
       "  </thead>\n",
       "  <tbody>\n",
       "    <tr>\n",
       "      <th>0</th>\n",
       "      <td>LP001002</td>\n",
       "      <td>Male</td>\n",
       "      <td>No</td>\n",
       "      <td>0</td>\n",
       "      <td>Graduate</td>\n",
       "      <td>No</td>\n",
       "      <td>8.674026</td>\n",
       "      <td>0.000000</td>\n",
       "      <td>4.986426</td>\n",
       "      <td>5.886104</td>\n",
       "      <td>1.0</td>\n",
       "      <td>Urban</td>\n",
       "      <td>Y</td>\n",
       "      <td>8.674026</td>\n",
       "    </tr>\n",
       "    <tr>\n",
       "      <th>1</th>\n",
       "      <td>LP001003</td>\n",
       "      <td>Male</td>\n",
       "      <td>Yes</td>\n",
       "      <td>1</td>\n",
       "      <td>Graduate</td>\n",
       "      <td>No</td>\n",
       "      <td>8.430109</td>\n",
       "      <td>7.319202</td>\n",
       "      <td>4.852030</td>\n",
       "      <td>5.886104</td>\n",
       "      <td>1.0</td>\n",
       "      <td>Rural</td>\n",
       "      <td>N</td>\n",
       "      <td>15.749312</td>\n",
       "    </tr>\n",
       "    <tr>\n",
       "      <th>2</th>\n",
       "      <td>LP001005</td>\n",
       "      <td>Male</td>\n",
       "      <td>Yes</td>\n",
       "      <td>0</td>\n",
       "      <td>Graduate</td>\n",
       "      <td>Yes</td>\n",
       "      <td>8.006368</td>\n",
       "      <td>0.000000</td>\n",
       "      <td>4.189655</td>\n",
       "      <td>5.886104</td>\n",
       "      <td>1.0</td>\n",
       "      <td>Urban</td>\n",
       "      <td>Y</td>\n",
       "      <td>8.006368</td>\n",
       "    </tr>\n",
       "    <tr>\n",
       "      <th>3</th>\n",
       "      <td>LP001006</td>\n",
       "      <td>Male</td>\n",
       "      <td>Yes</td>\n",
       "      <td>0</td>\n",
       "      <td>Not Graduate</td>\n",
       "      <td>No</td>\n",
       "      <td>7.856707</td>\n",
       "      <td>7.765993</td>\n",
       "      <td>4.787492</td>\n",
       "      <td>5.886104</td>\n",
       "      <td>1.0</td>\n",
       "      <td>Urban</td>\n",
       "      <td>Y</td>\n",
       "      <td>15.622700</td>\n",
       "    </tr>\n",
       "    <tr>\n",
       "      <th>4</th>\n",
       "      <td>LP001008</td>\n",
       "      <td>Male</td>\n",
       "      <td>No</td>\n",
       "      <td>0</td>\n",
       "      <td>Graduate</td>\n",
       "      <td>No</td>\n",
       "      <td>8.699515</td>\n",
       "      <td>0.000000</td>\n",
       "      <td>4.948760</td>\n",
       "      <td>5.886104</td>\n",
       "      <td>1.0</td>\n",
       "      <td>Urban</td>\n",
       "      <td>Y</td>\n",
       "      <td>8.699515</td>\n",
       "    </tr>\n",
       "  </tbody>\n",
       "</table>\n",
       "</div>"
      ],
      "text/plain": [
       "    Loan_ID Gender Married Dependents     Education Self_Employed  \\\n",
       "0  LP001002   Male      No          0      Graduate            No   \n",
       "1  LP001003   Male     Yes          1      Graduate            No   \n",
       "2  LP001005   Male     Yes          0      Graduate           Yes   \n",
       "3  LP001006   Male     Yes          0  Not Graduate            No   \n",
       "4  LP001008   Male      No          0      Graduate            No   \n",
       "\n",
       "   ApplicantIncome  CoapplicantIncome  LoanAmount  Loan_Amount_Term  \\\n",
       "0         8.674026           0.000000    4.986426          5.886104   \n",
       "1         8.430109           7.319202    4.852030          5.886104   \n",
       "2         8.006368           0.000000    4.189655          5.886104   \n",
       "3         7.856707           7.765993    4.787492          5.886104   \n",
       "4         8.699515           0.000000    4.948760          5.886104   \n",
       "\n",
       "   Credit_History Property_Area Loan_Status  Total_Income  \n",
       "0             1.0         Urban           Y      8.674026  \n",
       "1             1.0         Rural           N     15.749312  \n",
       "2             1.0         Urban           Y      8.006368  \n",
       "3             1.0         Urban           Y     15.622700  \n",
       "4             1.0         Urban           Y      8.699515  "
      ]
     },
     "execution_count": 39,
     "metadata": {},
     "output_type": "execute_result"
    }
   ],
   "source": [
    "df.head()"
   ]
  },
  {
   "cell_type": "markdown",
   "id": "challenging-sacramento",
   "metadata": {
    "papermill": {
     "duration": 0.080039,
     "end_time": "2021-04-05T20:22:44.734974",
     "exception": false,
     "start_time": "2021-04-05T20:22:44.654935",
     "status": "completed"
    },
    "tags": []
   },
   "source": [
    "## LOG TRANSFORMATION:"
   ]
  },
  {
   "cell_type": "code",
   "execution_count": 40,
   "id": "missing-manner",
   "metadata": {
    "execution": {
     "iopub.execute_input": "2021-04-05T20:22:44.898367Z",
     "iopub.status.busy": "2021-04-05T20:22:44.897350Z",
     "iopub.status.idle": "2021-04-05T20:22:45.141951Z",
     "shell.execute_reply": "2021-04-05T20:22:45.142438Z"
    },
    "papermill": {
     "duration": 0.32843,
     "end_time": "2021-04-05T20:22:45.142672",
     "exception": false,
     "start_time": "2021-04-05T20:22:44.814242",
     "status": "completed"
    },
    "tags": []
   },
   "outputs": [
    {
     "data": {
      "text/plain": [
       "<AxesSubplot:xlabel='ApplicantIncomeLog', ylabel='Density'>"
      ]
     },
     "execution_count": 40,
     "metadata": {},
     "output_type": "execute_result"
    },
    {
     "data": {
      "image/png": "[encoded data removed]",
      "text/plain": [
       "<Figure size 432x288 with 1 Axes>"
      ]
     },
     "metadata": {
      "needs_background": "light"
     },
     "output_type": "display_data"
    }
   ],
   "source": [
    "df['ApplicantIncomeLog'] = np.log(df['ApplicantIncome'])\n",
    "sns.distplot(df['ApplicantIncomeLog'])"
   ]
  },
  {
   "cell_type": "code",
   "execution_count": 41,
   "id": "shaped-terrorist",
   "metadata": {
    "execution": {
     "iopub.execute_input": "2021-04-05T20:22:45.306605Z",
     "iopub.status.busy": "2021-04-05T20:22:45.305951Z",
     "iopub.status.idle": "2021-04-05T20:22:45.474586Z",
     "shell.execute_reply": "2021-04-05T20:22:45.473859Z"
    },
    "papermill": {
     "duration": 0.251862,
     "end_time": "2021-04-05T20:22:45.474727",
     "exception": false,
     "start_time": "2021-04-05T20:22:45.222865",
     "status": "completed"
    },
    "tags": []
   },
   "outputs": [
    {
     "data": {
      "text/plain": [
       "<AxesSubplot:xlabel='CoapplicantIncomeLog', ylabel='Density'>"
      ]
     },
     "execution_count": 41,
     "metadata": {},
     "output_type": "execute_result"
    },
    {
     "data": {
      "image/png": "[encoded data removed]",
      "text/plain": [
       "<Figure size 432x288 with 1 Axes>"
      ]
     },
     "metadata": {
      "needs_background": "light"
     },
     "output_type": "display_data"
    }
   ],
   "source": [
    "df['CoapplicantIncomeLog'] = np.log(df['CoapplicantIncome']+1)\n",
    "sns.distplot(df['CoapplicantIncomeLog'])"
   ]
  },
  {
   "cell_type": "code",
   "execution_count": 42,
   "id": "canadian-trade",
   "metadata": {
    "execution": {
     "iopub.execute_input": "2021-04-05T20:22:45.672578Z",
     "iopub.status.busy": "2021-04-05T20:22:45.671908Z",
     "iopub.status.idle": "2021-04-05T20:22:45.914545Z",
     "shell.execute_reply": "2021-04-05T20:22:45.913982Z"
    },
    "papermill": {
     "duration": 0.358522,
     "end_time": "2021-04-05T20:22:45.914682",
     "exception": false,
     "start_time": "2021-04-05T20:22:45.556160",
     "status": "completed"
    },
    "tags": []
   },
   "outputs": [
    {
     "data": {
      "text/plain": [
       "<AxesSubplot:xlabel='LoanAmountLog', ylabel='Density'>"
      ]
     },
     "execution_count": 42,
     "metadata": {},
     "output_type": "execute_result"
    },
    {
     "data": {
      "image/png": "[encoded data removed]",
      "text/plain": [
       "<Figure size 432x288 with 1 Axes>"
      ]
     },
     "metadata": {
      "needs_background": "light"
     },
     "output_type": "display_data"
    }
   ],
   "source": [
    "df['LoanAmountLog'] = np.log(df['LoanAmount'])\n",
    "sns.distplot(df['LoanAmountLog'])"
   ]
  },
  {
   "cell_type": "code",
   "execution_count": 43,
   "id": "quantitative-bangladesh",
   "metadata": {
    "execution": {
     "iopub.execute_input": "2021-04-05T20:22:46.108033Z",
     "iopub.status.busy": "2021-04-05T20:22:46.106333Z",
     "iopub.status.idle": "2021-04-05T20:22:46.287882Z",
     "shell.execute_reply": "2021-04-05T20:22:46.287318Z"
    },
    "papermill": {
     "duration": 0.2903,
     "end_time": "2021-04-05T20:22:46.288026",
     "exception": false,
     "start_time": "2021-04-05T20:22:45.997726",
     "status": "completed"
    },
    "tags": []
   },
   "outputs": [
    {
     "data": {
      "text/plain": [
       "<AxesSubplot:xlabel='Loan_Amount_TermLog', ylabel='Density'>"
      ]
     },
     "execution_count": 43,
     "metadata": {},
     "output_type": "execute_result"
    },
    {
     "data": {
      "image/png": "[encoded data removed]",
      "text/plain": [
       "<Figure size 432x288 with 1 Axes>"
      ]
     },
     "metadata": {
      "needs_background": "light"
     },
     "output_type": "display_data"
    }
   ],
   "source": [
    "df['Loan_Amount_TermLog'] = np.log(df['Loan_Amount_Term'])\n",
    "sns.distplot(df['Loan_Amount_TermLog'])"
   ]
  },
  {
   "cell_type": "code",
   "execution_count": 44,
   "id": "connected-retrieval",
   "metadata": {
    "execution": {
     "iopub.execute_input": "2021-04-05T20:22:46.480205Z",
     "iopub.status.busy": "2021-04-05T20:22:46.463133Z",
     "iopub.status.idle": "2021-04-05T20:22:46.664096Z",
     "shell.execute_reply": "2021-04-05T20:22:46.663456Z"
    },
    "papermill": {
     "duration": 0.29112,
     "end_time": "2021-04-05T20:22:46.664259",
     "exception": false,
     "start_time": "2021-04-05T20:22:46.373139",
     "status": "completed"
    },
    "tags": []
   },
   "outputs": [
    {
     "data": {
      "text/plain": [
       "<AxesSubplot:xlabel='Total_IncomeLog', ylabel='Density'>"
      ]
     },
     "execution_count": 44,
     "metadata": {},
     "output_type": "execute_result"
    },
    {
     "data": {
      "image/png": "[encoded data removed]",
      "text/plain": [
       "<Figure size 432x288 with 1 Axes>"
      ]
     },
     "metadata": {
      "needs_background": "light"
     },
     "output_type": "display_data"
    }
   ],
   "source": [
    "df['Total_IncomeLog'] = np.log(df['Total_Income'])\n",
    "sns.distplot(df['Total_IncomeLog'])"
   ]
  },
  {
   "cell_type": "markdown",
   "id": "valuable-andorra",
   "metadata": {
    "papermill": {
     "duration": 0.086524,
     "end_time": "2021-04-05T20:22:46.838771",
     "exception": false,
     "start_time": "2021-04-05T20:22:46.752247",
     "status": "completed"
    },
    "tags": []
   },
   "source": [
    "## CORRELATION MATRIX:"
   ]
  },
  {
   "cell_type": "code",
   "execution_count": 45,
   "id": "inside-penny",
   "metadata": {
    "execution": {
     "iopub.execute_input": "2021-04-05T20:22:47.023175Z",
     "iopub.status.busy": "2021-04-05T20:22:47.022471Z",
     "iopub.status.idle": "2021-04-05T20:22:47.025962Z",
     "shell.execute_reply": "2021-04-05T20:22:47.025393Z"
    },
    "papermill": {
     "duration": 0.100244,
     "end_time": "2021-04-05T20:22:47.026113",
     "exception": false,
     "start_time": "2021-04-05T20:22:46.925869",
     "status": "completed"
    },
    "tags": []
   },
   "outputs": [],
   "source": [
    "corr = df.corr()"
   ]
  },
  {
   "cell_type": "code",
   "execution_count": 46,
   "id": "material-share",
   "metadata": {
    "execution": {
     "iopub.execute_input": "2021-04-05T20:22:47.226379Z",
     "iopub.status.busy": "2021-04-05T20:22:47.225659Z",
     "iopub.status.idle": "2021-04-05T20:22:48.169245Z",
     "shell.execute_reply": "2021-04-05T20:22:48.169812Z"
    },
    "papermill": {
     "duration": 1.054736,
     "end_time": "2021-04-05T20:22:48.170035",
     "exception": false,
     "start_time": "2021-04-05T20:22:47.115299",
     "status": "completed"
    },
    "tags": []
   },
   "outputs": [
    {
     "data": {
      "text/plain": [
       "<AxesSubplot:>"
      ]
     },
     "execution_count": 46,
     "metadata": {},
     "output_type": "execute_result"
    },
    {
     "data": {
      "image/png": "[encoded data removed]",
      "text/plain": [
       "<Figure size 1080x720 with 2 Axes>"
      ]
     },
     "metadata": {
      "needs_background": "light"
     },
     "output_type": "display_data"
    }
   ],
   "source": [
    "plt.figure(figsize=(15,10))\n",
    "sns.heatmap(corr,annot=True,cmap=\"BuPu\")"
   ]
  },
  {
   "cell_type": "markdown",
   "id": "e312dd66",
   "metadata": {},
   "source": [
    "## LABEL ENCODING:"
   ]
  },
  {
   "cell_type": "code",
   "execution_count": 47,
   "id": "f98609ee",
   "metadata": {},
   "outputs": [],
   "source": [
    "from sklearn.preprocessing import LabelEncoder"
   ]
  },
  {
   "cell_type": "code",
   "execution_count": 48,
   "id": "d8693a2d",
   "metadata": {},
   "outputs": [],
   "source": [
    "cols = ['Gender','Married','Education','Self_Employed','Property_Area','Loan_Status','Dependents']\n",
    "le = LabelEncoder()\n",
    "for col in cols :\n",
    "    df[col] = le.fit_transform(df[col])"
   ]
  },
  {
   "cell_type": "code",
   "execution_count": 49,
   "id": "81128af3",
   "metadata": {},
   "outputs": [
    {
     "data": {
      "text/html": [
       "<div>\n",
       "<style scoped>\n",
       "    .dataframe tbody tr th:only-of-type {\n",
       "        vertical-align: middle;\n",
       "    }\n",
       "\n",
       "    .dataframe tbody tr th {\n",
       "        vertical-align: top;\n",
       "    }\n",
       "\n",
       "    .dataframe thead th {\n",
       "        text-align: right;\n",
       "    }\n",
       "</style>\n",
       "<table border=\"1\" class=\"dataframe\">\n",
       "  <thead>\n",
       "    <tr style=\"text-align: right;\">\n",
       "      <th></th>\n",
       "      <th>Loan_ID</th>\n",
       "      <th>Gender</th>\n",
       "      <th>Married</th>\n",
       "      <th>Dependents</th>\n",
       "      <th>Education</th>\n",
       "      <th>Self_Employed</th>\n",
       "      <th>ApplicantIncome</th>\n",
       "      <th>CoapplicantIncome</th>\n",
       "      <th>LoanAmount</th>\n",
       "      <th>Loan_Amount_Term</th>\n",
       "      <th>Credit_History</th>\n",
       "      <th>Property_Area</th>\n",
       "      <th>Loan_Status</th>\n",
       "      <th>Total_Income</th>\n",
       "      <th>ApplicantIncomeLog</th>\n",
       "      <th>CoapplicantIncomeLog</th>\n",
       "      <th>LoanAmountLog</th>\n",
       "      <th>Loan_Amount_TermLog</th>\n",
       "      <th>Total_IncomeLog</th>\n",
       "    </tr>\n",
       "  </thead>\n",
       "  <tbody>\n",
       "    <tr>\n",
       "      <th>0</th>\n",
       "      <td>LP001002</td>\n",
       "      <td>1</td>\n",
       "      <td>0</td>\n",
       "      <td>0</td>\n",
       "      <td>0</td>\n",
       "      <td>0</td>\n",
       "      <td>8.674026</td>\n",
       "      <td>0.000000</td>\n",
       "      <td>4.986426</td>\n",
       "      <td>5.886104</td>\n",
       "      <td>1.000000</td>\n",
       "      <td>2</td>\n",
       "      <td>1</td>\n",
       "      <td>8.674026</td>\n",
       "      <td>2.160333</td>\n",
       "      <td>0.000000</td>\n",
       "      <td>1.606719</td>\n",
       "      <td>1.772594</td>\n",
       "      <td>2.160333</td>\n",
       "    </tr>\n",
       "    <tr>\n",
       "      <th>1</th>\n",
       "      <td>LP001003</td>\n",
       "      <td>1</td>\n",
       "      <td>1</td>\n",
       "      <td>1</td>\n",
       "      <td>0</td>\n",
       "      <td>0</td>\n",
       "      <td>8.430109</td>\n",
       "      <td>7.319202</td>\n",
       "      <td>4.852030</td>\n",
       "      <td>5.886104</td>\n",
       "      <td>1.000000</td>\n",
       "      <td>0</td>\n",
       "      <td>0</td>\n",
       "      <td>15.749312</td>\n",
       "      <td>2.131810</td>\n",
       "      <td>2.118566</td>\n",
       "      <td>1.579397</td>\n",
       "      <td>1.772594</td>\n",
       "      <td>2.756797</td>\n",
       "    </tr>\n",
       "    <tr>\n",
       "      <th>2</th>\n",
       "      <td>LP001005</td>\n",
       "      <td>1</td>\n",
       "      <td>1</td>\n",
       "      <td>0</td>\n",
       "      <td>0</td>\n",
       "      <td>1</td>\n",
       "      <td>8.006368</td>\n",
       "      <td>0.000000</td>\n",
       "      <td>4.189655</td>\n",
       "      <td>5.886104</td>\n",
       "      <td>1.000000</td>\n",
       "      <td>2</td>\n",
       "      <td>1</td>\n",
       "      <td>8.006368</td>\n",
       "      <td>2.080237</td>\n",
       "      <td>0.000000</td>\n",
       "      <td>1.432618</td>\n",
       "      <td>1.772594</td>\n",
       "      <td>2.080237</td>\n",
       "    </tr>\n",
       "    <tr>\n",
       "      <th>3</th>\n",
       "      <td>LP001006</td>\n",
       "      <td>1</td>\n",
       "      <td>1</td>\n",
       "      <td>0</td>\n",
       "      <td>1</td>\n",
       "      <td>0</td>\n",
       "      <td>7.856707</td>\n",
       "      <td>7.765993</td>\n",
       "      <td>4.787492</td>\n",
       "      <td>5.886104</td>\n",
       "      <td>1.000000</td>\n",
       "      <td>2</td>\n",
       "      <td>1</td>\n",
       "      <td>15.622700</td>\n",
       "      <td>2.061368</td>\n",
       "      <td>2.170880</td>\n",
       "      <td>1.566007</td>\n",
       "      <td>1.772594</td>\n",
       "      <td>2.748725</td>\n",
       "    </tr>\n",
       "    <tr>\n",
       "      <th>4</th>\n",
       "      <td>LP001008</td>\n",
       "      <td>1</td>\n",
       "      <td>0</td>\n",
       "      <td>0</td>\n",
       "      <td>0</td>\n",
       "      <td>0</td>\n",
       "      <td>8.699515</td>\n",
       "      <td>0.000000</td>\n",
       "      <td>4.948760</td>\n",
       "      <td>5.886104</td>\n",
       "      <td>1.000000</td>\n",
       "      <td>2</td>\n",
       "      <td>1</td>\n",
       "      <td>8.699515</td>\n",
       "      <td>2.163267</td>\n",
       "      <td>0.000000</td>\n",
       "      <td>1.599137</td>\n",
       "      <td>1.772594</td>\n",
       "      <td>2.163267</td>\n",
       "    </tr>\n",
       "    <tr>\n",
       "      <th>...</th>\n",
       "      <td>...</td>\n",
       "      <td>...</td>\n",
       "      <td>...</td>\n",
       "      <td>...</td>\n",
       "      <td>...</td>\n",
       "      <td>...</td>\n",
       "      <td>...</td>\n",
       "      <td>...</td>\n",
       "      <td>...</td>\n",
       "      <td>...</td>\n",
       "      <td>...</td>\n",
       "      <td>...</td>\n",
       "      <td>...</td>\n",
       "      <td>...</td>\n",
       "      <td>...</td>\n",
       "      <td>...</td>\n",
       "      <td>...</td>\n",
       "      <td>...</td>\n",
       "      <td>...</td>\n",
       "    </tr>\n",
       "    <tr>\n",
       "      <th>839</th>\n",
       "      <td>LP001682</td>\n",
       "      <td>1</td>\n",
       "      <td>1</td>\n",
       "      <td>3</td>\n",
       "      <td>1</td>\n",
       "      <td>0</td>\n",
       "      <td>8.292048</td>\n",
       "      <td>0.000000</td>\n",
       "      <td>4.986426</td>\n",
       "      <td>5.192957</td>\n",
       "      <td>1.000000</td>\n",
       "      <td>2</td>\n",
       "      <td>0</td>\n",
       "      <td>8.292048</td>\n",
       "      <td>2.115297</td>\n",
       "      <td>0.000000</td>\n",
       "      <td>1.606719</td>\n",
       "      <td>1.647303</td>\n",
       "      <td>2.115297</td>\n",
       "    </tr>\n",
       "    <tr>\n",
       "      <th>840</th>\n",
       "      <td>LP002898</td>\n",
       "      <td>1</td>\n",
       "      <td>1</td>\n",
       "      <td>1</td>\n",
       "      <td>0</td>\n",
       "      <td>0</td>\n",
       "      <td>7.539027</td>\n",
       "      <td>0.000000</td>\n",
       "      <td>4.110874</td>\n",
       "      <td>5.886104</td>\n",
       "      <td>0.842199</td>\n",
       "      <td>0</td>\n",
       "      <td>0</td>\n",
       "      <td>7.539027</td>\n",
       "      <td>2.020093</td>\n",
       "      <td>0.000000</td>\n",
       "      <td>1.413636</td>\n",
       "      <td>1.772594</td>\n",
       "      <td>2.020093</td>\n",
       "    </tr>\n",
       "    <tr>\n",
       "      <th>841</th>\n",
       "      <td>LP002911</td>\n",
       "      <td>1</td>\n",
       "      <td>1</td>\n",
       "      <td>1</td>\n",
       "      <td>0</td>\n",
       "      <td>0</td>\n",
       "      <td>7.932721</td>\n",
       "      <td>7.559038</td>\n",
       "      <td>4.983607</td>\n",
       "      <td>5.886104</td>\n",
       "      <td>0.000000</td>\n",
       "      <td>0</td>\n",
       "      <td>0</td>\n",
       "      <td>15.491759</td>\n",
       "      <td>2.070996</td>\n",
       "      <td>2.146988</td>\n",
       "      <td>1.606154</td>\n",
       "      <td>1.772594</td>\n",
       "      <td>2.740308</td>\n",
       "    </tr>\n",
       "    <tr>\n",
       "      <th>842</th>\n",
       "      <td>LP002288</td>\n",
       "      <td>1</td>\n",
       "      <td>1</td>\n",
       "      <td>2</td>\n",
       "      <td>1</td>\n",
       "      <td>0</td>\n",
       "      <td>7.968666</td>\n",
       "      <td>0.000000</td>\n",
       "      <td>3.806662</td>\n",
       "      <td>5.192957</td>\n",
       "      <td>0.000000</td>\n",
       "      <td>2</td>\n",
       "      <td>0</td>\n",
       "      <td>7.968666</td>\n",
       "      <td>2.075517</td>\n",
       "      <td>0.000000</td>\n",
       "      <td>1.336753</td>\n",
       "      <td>1.647303</td>\n",
       "      <td>2.075517</td>\n",
       "    </tr>\n",
       "    <tr>\n",
       "      <th>843</th>\n",
       "      <td>LP002493</td>\n",
       "      <td>1</td>\n",
       "      <td>0</td>\n",
       "      <td>0</td>\n",
       "      <td>0</td>\n",
       "      <td>0</td>\n",
       "      <td>8.334712</td>\n",
       "      <td>0.000000</td>\n",
       "      <td>4.584967</td>\n",
       "      <td>5.886104</td>\n",
       "      <td>0.000000</td>\n",
       "      <td>1</td>\n",
       "      <td>0</td>\n",
       "      <td>8.334712</td>\n",
       "      <td>2.120429</td>\n",
       "      <td>0.000000</td>\n",
       "      <td>1.522783</td>\n",
       "      <td>1.772594</td>\n",
       "      <td>2.120429</td>\n",
       "    </tr>\n",
       "  </tbody>\n",
       "</table>\n",
       "<p>844 rows × 19 columns</p>\n",
       "</div>"
      ],
      "text/plain": [
       "      Loan_ID  Gender  Married  Dependents  Education  Self_Employed  \\\n",
       "0    LP001002       1        0           0          0              0   \n",
       "1    LP001003       1        1           1          0              0   \n",
       "2    LP001005       1        1           0          0              1   \n",
       "3    LP001006       1        1           0          1              0   \n",
       "4    LP001008       1        0           0          0              0   \n",
       "..        ...     ...      ...         ...        ...            ...   \n",
       "839  LP001682       1        1           3          1              0   \n",
       "840  LP002898       1        1           1          0              0   \n",
       "841  LP002911       1        1           1          0              0   \n",
       "842  LP002288       1        1           2          1              0   \n",
       "843  LP002493       1        0           0          0              0   \n",
       "\n",
       "     ApplicantIncome  CoapplicantIncome  LoanAmount  Loan_Amount_Term  \\\n",
       "0           8.674026           0.000000    4.986426          5.886104   \n",
       "1           8.430109           7.319202    4.852030          5.886104   \n",
       "2           8.006368           0.000000    4.189655          5.886104   \n",
       "3           7.856707           7.765993    4.787492          5.886104   \n",
       "4           8.699515           0.000000    4.948760          5.886104   \n",
       "..               ...                ...         ...               ...   \n",
       "839         8.292048           0.000000    4.986426          5.192957   \n",
       "840         7.539027           0.000000    4.110874          5.886104   \n",
       "841         7.932721           7.559038    4.983607          5.886104   \n",
       "842         7.968666           0.000000    3.806662          5.192957   \n",
       "843         8.334712           0.000000    4.584967          5.886104   \n",
       "\n",
       "     Credit_History  Property_Area  Loan_Status  Total_Income  \\\n",
       "0          1.000000              2            1      8.674026   \n",
       "1          1.000000              0            0     15.749312   \n",
       "2          1.000000              2            1      8.006368   \n",
       "3          1.000000              2            1     15.622700   \n",
       "4          1.000000              2            1      8.699515   \n",
       "..              ...            ...          ...           ...   \n",
       "839        1.000000              2            0      8.292048   \n",
       "840        0.842199              0            0      7.539027   \n",
       "841        0.000000              0            0     15.491759   \n",
       "842        0.000000              2            0      7.968666   \n",
       "843        0.000000              1            0      8.334712   \n",
       "\n",
       "     ApplicantIncomeLog  CoapplicantIncomeLog  LoanAmountLog  \\\n",
       "0              2.160333              0.000000       1.606719   \n",
       "1              2.131810              2.118566       1.579397   \n",
       "2              2.080237              0.000000       1.432618   \n",
       "3              2.061368              2.170880       1.566007   \n",
       "4              2.163267              0.000000       1.599137   \n",
       "..                  ...                   ...            ...   \n",
       "839            2.115297              0.000000       1.606719   \n",
       "840            2.020093              0.000000       1.413636   \n",
       "841            2.070996              2.146988       1.606154   \n",
       "842            2.075517              0.000000       1.336753   \n",
       "843            2.120429              0.000000       1.522783   \n",
       "\n",
       "     Loan_Amount_TermLog  Total_IncomeLog  \n",
       "0               1.772594         2.160333  \n",
       "1               1.772594         2.756797  \n",
       "2               1.772594         2.080237  \n",
       "3               1.772594         2.748725  \n",
       "4               1.772594         2.163267  \n",
       "..                   ...              ...  \n",
       "839             1.647303         2.115297  \n",
       "840             1.772594         2.020093  \n",
       "841             1.772594         2.740308  \n",
       "842             1.647303         2.075517  \n",
       "843             1.772594         2.120429  \n",
       "\n",
       "[844 rows x 19 columns]"
      ]
     },
     "execution_count": 49,
     "metadata": {},
     "output_type": "execute_result"
    }
   ],
   "source": [
    "df"
   ]
  },
  {
   "cell_type": "markdown",
   "id": "0d91afcc",
   "metadata": {},
   "source": [
    "### Chi Square Technique for Categorial Data"
   ]
  },
  {
   "cell_type": "code",
   "execution_count": 50,
   "id": "629729ea",
   "metadata": {},
   "outputs": [],
   "source": [
    "from sklearn.feature_selection import chi2"
   ]
  },
  {
   "cell_type": "code",
   "execution_count": 51,
   "id": "3f8825e9",
   "metadata": {},
   "outputs": [],
   "source": [
    "X=df[['Gender','Married','Education','Self_Employed','Property_Area','Dependents']]"
   ]
  },
  {
   "cell_type": "code",
   "execution_count": 52,
   "id": "acf0ad80",
   "metadata": {},
   "outputs": [],
   "source": [
    "y=df['Loan_Status']"
   ]
  },
  {
   "cell_type": "code",
   "execution_count": 53,
   "id": "c579969b",
   "metadata": {},
   "outputs": [],
   "source": [
    "chi_score=chi2(X,y)"
   ]
  },
  {
   "cell_type": "code",
   "execution_count": 54,
   "id": "c89b7e9f",
   "metadata": {},
   "outputs": [
    {
     "data": {
      "text/plain": [
       "(array([0.78837556, 3.63909774, 5.52791878, 0.        , 0.84472769,\n",
       "        2.14880952]),\n",
       " array([0.37459177, 0.05643751, 0.01871535, 1.        , 0.35804814,\n",
       "        0.14268048]))"
      ]
     },
     "execution_count": 54,
     "metadata": {},
     "output_type": "execute_result"
    }
   ],
   "source": [
    "chi_score"
   ]
  },
  {
   "cell_type": "code",
   "execution_count": 55,
   "id": "2831a01d",
   "metadata": {},
   "outputs": [
    {
     "data": {
      "text/html": [
       "<div>\n",
       "<style scoped>\n",
       "    .dataframe tbody tr th:only-of-type {\n",
       "        vertical-align: middle;\n",
       "    }\n",
       "\n",
       "    .dataframe tbody tr th {\n",
       "        vertical-align: top;\n",
       "    }\n",
       "\n",
       "    .dataframe thead th {\n",
       "        text-align: right;\n",
       "    }\n",
       "</style>\n",
       "<table border=\"1\" class=\"dataframe\">\n",
       "  <thead>\n",
       "    <tr style=\"text-align: right;\">\n",
       "      <th></th>\n",
       "      <th>Gender</th>\n",
       "      <th>Married</th>\n",
       "      <th>Education</th>\n",
       "      <th>Self_Employed</th>\n",
       "      <th>Property_Area</th>\n",
       "      <th>Dependents</th>\n",
       "      <th>Loan_Status</th>\n",
       "    </tr>\n",
       "  </thead>\n",
       "  <tbody>\n",
       "    <tr>\n",
       "      <th>0</th>\n",
       "      <td>1</td>\n",
       "      <td>0</td>\n",
       "      <td>0</td>\n",
       "      <td>0</td>\n",
       "      <td>2</td>\n",
       "      <td>0</td>\n",
       "      <td>1</td>\n",
       "    </tr>\n",
       "    <tr>\n",
       "      <th>1</th>\n",
       "      <td>1</td>\n",
       "      <td>1</td>\n",
       "      <td>0</td>\n",
       "      <td>0</td>\n",
       "      <td>0</td>\n",
       "      <td>1</td>\n",
       "      <td>0</td>\n",
       "    </tr>\n",
       "    <tr>\n",
       "      <th>2</th>\n",
       "      <td>1</td>\n",
       "      <td>1</td>\n",
       "      <td>0</td>\n",
       "      <td>1</td>\n",
       "      <td>2</td>\n",
       "      <td>0</td>\n",
       "      <td>1</td>\n",
       "    </tr>\n",
       "    <tr>\n",
       "      <th>3</th>\n",
       "      <td>1</td>\n",
       "      <td>1</td>\n",
       "      <td>1</td>\n",
       "      <td>0</td>\n",
       "      <td>2</td>\n",
       "      <td>0</td>\n",
       "      <td>1</td>\n",
       "    </tr>\n",
       "    <tr>\n",
       "      <th>4</th>\n",
       "      <td>1</td>\n",
       "      <td>0</td>\n",
       "      <td>0</td>\n",
       "      <td>0</td>\n",
       "      <td>2</td>\n",
       "      <td>0</td>\n",
       "      <td>1</td>\n",
       "    </tr>\n",
       "    <tr>\n",
       "      <th>...</th>\n",
       "      <td>...</td>\n",
       "      <td>...</td>\n",
       "      <td>...</td>\n",
       "      <td>...</td>\n",
       "      <td>...</td>\n",
       "      <td>...</td>\n",
       "      <td>...</td>\n",
       "    </tr>\n",
       "    <tr>\n",
       "      <th>839</th>\n",
       "      <td>1</td>\n",
       "      <td>1</td>\n",
       "      <td>1</td>\n",
       "      <td>0</td>\n",
       "      <td>2</td>\n",
       "      <td>3</td>\n",
       "      <td>0</td>\n",
       "    </tr>\n",
       "    <tr>\n",
       "      <th>840</th>\n",
       "      <td>1</td>\n",
       "      <td>1</td>\n",
       "      <td>0</td>\n",
       "      <td>0</td>\n",
       "      <td>0</td>\n",
       "      <td>1</td>\n",
       "      <td>0</td>\n",
       "    </tr>\n",
       "    <tr>\n",
       "      <th>841</th>\n",
       "      <td>1</td>\n",
       "      <td>1</td>\n",
       "      <td>0</td>\n",
       "      <td>0</td>\n",
       "      <td>0</td>\n",
       "      <td>1</td>\n",
       "      <td>0</td>\n",
       "    </tr>\n",
       "    <tr>\n",
       "      <th>842</th>\n",
       "      <td>1</td>\n",
       "      <td>1</td>\n",
       "      <td>1</td>\n",
       "      <td>0</td>\n",
       "      <td>2</td>\n",
       "      <td>2</td>\n",
       "      <td>0</td>\n",
       "    </tr>\n",
       "    <tr>\n",
       "      <th>843</th>\n",
       "      <td>1</td>\n",
       "      <td>0</td>\n",
       "      <td>0</td>\n",
       "      <td>0</td>\n",
       "      <td>1</td>\n",
       "      <td>0</td>\n",
       "      <td>0</td>\n",
       "    </tr>\n",
       "  </tbody>\n",
       "</table>\n",
       "<p>844 rows × 7 columns</p>\n",
       "</div>"
      ],
      "text/plain": [
       "     Gender  Married  Education  Self_Employed  Property_Area  Dependents  \\\n",
       "0         1        0          0              0              2           0   \n",
       "1         1        1          0              0              0           1   \n",
       "2         1        1          0              1              2           0   \n",
       "3         1        1          1              0              2           0   \n",
       "4         1        0          0              0              2           0   \n",
       "..      ...      ...        ...            ...            ...         ...   \n",
       "839       1        1          1              0              2           3   \n",
       "840       1        1          0              0              0           1   \n",
       "841       1        1          0              0              0           1   \n",
       "842       1        1          1              0              2           2   \n",
       "843       1        0          0              0              1           0   \n",
       "\n",
       "     Loan_Status  \n",
       "0              1  \n",
       "1              0  \n",
       "2              1  \n",
       "3              1  \n",
       "4              1  \n",
       "..           ...  \n",
       "839            0  \n",
       "840            0  \n",
       "841            0  \n",
       "842            0  \n",
       "843            0  \n",
       "\n",
       "[844 rows x 7 columns]"
      ]
     },
     "execution_count": 55,
     "metadata": {},
     "output_type": "execute_result"
    }
   ],
   "source": [
    "df1 = pd.concat([X,y],axis=1)\n",
    "df1  "
   ]
  },
  {
   "cell_type": "code",
   "execution_count": 56,
   "id": "4796bde8",
   "metadata": {},
   "outputs": [],
   "source": [
    "df2=pd.concat([df,df1],axis=1)"
   ]
  },
  {
   "cell_type": "code",
   "execution_count": 57,
   "id": "3b4636c1",
   "metadata": {},
   "outputs": [
    {
     "data": {
      "text/html": [
       "<div>\n",
       "<style scoped>\n",
       "    .dataframe tbody tr th:only-of-type {\n",
       "        vertical-align: middle;\n",
       "    }\n",
       "\n",
       "    .dataframe tbody tr th {\n",
       "        vertical-align: top;\n",
       "    }\n",
       "\n",
       "    .dataframe thead th {\n",
       "        text-align: right;\n",
       "    }\n",
       "</style>\n",
       "<table border=\"1\" class=\"dataframe\">\n",
       "  <thead>\n",
       "    <tr style=\"text-align: right;\">\n",
       "      <th></th>\n",
       "      <th>Loan_ID</th>\n",
       "      <th>Gender</th>\n",
       "      <th>Married</th>\n",
       "      <th>Dependents</th>\n",
       "      <th>Education</th>\n",
       "      <th>Self_Employed</th>\n",
       "      <th>ApplicantIncome</th>\n",
       "      <th>CoapplicantIncome</th>\n",
       "      <th>LoanAmount</th>\n",
       "      <th>Loan_Amount_Term</th>\n",
       "      <th>...</th>\n",
       "      <th>LoanAmountLog</th>\n",
       "      <th>Loan_Amount_TermLog</th>\n",
       "      <th>Total_IncomeLog</th>\n",
       "      <th>Gender</th>\n",
       "      <th>Married</th>\n",
       "      <th>Education</th>\n",
       "      <th>Self_Employed</th>\n",
       "      <th>Property_Area</th>\n",
       "      <th>Dependents</th>\n",
       "      <th>Loan_Status</th>\n",
       "    </tr>\n",
       "  </thead>\n",
       "  <tbody>\n",
       "    <tr>\n",
       "      <th>0</th>\n",
       "      <td>LP001002</td>\n",
       "      <td>1</td>\n",
       "      <td>0</td>\n",
       "      <td>0</td>\n",
       "      <td>0</td>\n",
       "      <td>0</td>\n",
       "      <td>8.674026</td>\n",
       "      <td>0.000000</td>\n",
       "      <td>4.986426</td>\n",
       "      <td>5.886104</td>\n",
       "      <td>...</td>\n",
       "      <td>1.606719</td>\n",
       "      <td>1.772594</td>\n",
       "      <td>2.160333</td>\n",
       "      <td>1</td>\n",
       "      <td>0</td>\n",
       "      <td>0</td>\n",
       "      <td>0</td>\n",
       "      <td>2</td>\n",
       "      <td>0</td>\n",
       "      <td>1</td>\n",
       "    </tr>\n",
       "    <tr>\n",
       "      <th>1</th>\n",
       "      <td>LP001003</td>\n",
       "      <td>1</td>\n",
       "      <td>1</td>\n",
       "      <td>1</td>\n",
       "      <td>0</td>\n",
       "      <td>0</td>\n",
       "      <td>8.430109</td>\n",
       "      <td>7.319202</td>\n",
       "      <td>4.852030</td>\n",
       "      <td>5.886104</td>\n",
       "      <td>...</td>\n",
       "      <td>1.579397</td>\n",
       "      <td>1.772594</td>\n",
       "      <td>2.756797</td>\n",
       "      <td>1</td>\n",
       "      <td>1</td>\n",
       "      <td>0</td>\n",
       "      <td>0</td>\n",
       "      <td>0</td>\n",
       "      <td>1</td>\n",
       "      <td>0</td>\n",
       "    </tr>\n",
       "    <tr>\n",
       "      <th>2</th>\n",
       "      <td>LP001005</td>\n",
       "      <td>1</td>\n",
       "      <td>1</td>\n",
       "      <td>0</td>\n",
       "      <td>0</td>\n",
       "      <td>1</td>\n",
       "      <td>8.006368</td>\n",
       "      <td>0.000000</td>\n",
       "      <td>4.189655</td>\n",
       "      <td>5.886104</td>\n",
       "      <td>...</td>\n",
       "      <td>1.432618</td>\n",
       "      <td>1.772594</td>\n",
       "      <td>2.080237</td>\n",
       "      <td>1</td>\n",
       "      <td>1</td>\n",
       "      <td>0</td>\n",
       "      <td>1</td>\n",
       "      <td>2</td>\n",
       "      <td>0</td>\n",
       "      <td>1</td>\n",
       "    </tr>\n",
       "    <tr>\n",
       "      <th>3</th>\n",
       "      <td>LP001006</td>\n",
       "      <td>1</td>\n",
       "      <td>1</td>\n",
       "      <td>0</td>\n",
       "      <td>1</td>\n",
       "      <td>0</td>\n",
       "      <td>7.856707</td>\n",
       "      <td>7.765993</td>\n",
       "      <td>4.787492</td>\n",
       "      <td>5.886104</td>\n",
       "      <td>...</td>\n",
       "      <td>1.566007</td>\n",
       "      <td>1.772594</td>\n",
       "      <td>2.748725</td>\n",
       "      <td>1</td>\n",
       "      <td>1</td>\n",
       "      <td>1</td>\n",
       "      <td>0</td>\n",
       "      <td>2</td>\n",
       "      <td>0</td>\n",
       "      <td>1</td>\n",
       "    </tr>\n",
       "    <tr>\n",
       "      <th>4</th>\n",
       "      <td>LP001008</td>\n",
       "      <td>1</td>\n",
       "      <td>0</td>\n",
       "      <td>0</td>\n",
       "      <td>0</td>\n",
       "      <td>0</td>\n",
       "      <td>8.699515</td>\n",
       "      <td>0.000000</td>\n",
       "      <td>4.948760</td>\n",
       "      <td>5.886104</td>\n",
       "      <td>...</td>\n",
       "      <td>1.599137</td>\n",
       "      <td>1.772594</td>\n",
       "      <td>2.163267</td>\n",
       "      <td>1</td>\n",
       "      <td>0</td>\n",
       "      <td>0</td>\n",
       "      <td>0</td>\n",
       "      <td>2</td>\n",
       "      <td>0</td>\n",
       "      <td>1</td>\n",
       "    </tr>\n",
       "    <tr>\n",
       "      <th>...</th>\n",
       "      <td>...</td>\n",
       "      <td>...</td>\n",
       "      <td>...</td>\n",
       "      <td>...</td>\n",
       "      <td>...</td>\n",
       "      <td>...</td>\n",
       "      <td>...</td>\n",
       "      <td>...</td>\n",
       "      <td>...</td>\n",
       "      <td>...</td>\n",
       "      <td>...</td>\n",
       "      <td>...</td>\n",
       "      <td>...</td>\n",
       "      <td>...</td>\n",
       "      <td>...</td>\n",
       "      <td>...</td>\n",
       "      <td>...</td>\n",
       "      <td>...</td>\n",
       "      <td>...</td>\n",
       "      <td>...</td>\n",
       "      <td>...</td>\n",
       "    </tr>\n",
       "    <tr>\n",
       "      <th>839</th>\n",
       "      <td>LP001682</td>\n",
       "      <td>1</td>\n",
       "      <td>1</td>\n",
       "      <td>3</td>\n",
       "      <td>1</td>\n",
       "      <td>0</td>\n",
       "      <td>8.292048</td>\n",
       "      <td>0.000000</td>\n",
       "      <td>4.986426</td>\n",
       "      <td>5.192957</td>\n",
       "      <td>...</td>\n",
       "      <td>1.606719</td>\n",
       "      <td>1.647303</td>\n",
       "      <td>2.115297</td>\n",
       "      <td>1</td>\n",
       "      <td>1</td>\n",
       "      <td>1</td>\n",
       "      <td>0</td>\n",
       "      <td>2</td>\n",
       "      <td>3</td>\n",
       "      <td>0</td>\n",
       "    </tr>\n",
       "    <tr>\n",
       "      <th>840</th>\n",
       "      <td>LP002898</td>\n",
       "      <td>1</td>\n",
       "      <td>1</td>\n",
       "      <td>1</td>\n",
       "      <td>0</td>\n",
       "      <td>0</td>\n",
       "      <td>7.539027</td>\n",
       "      <td>0.000000</td>\n",
       "      <td>4.110874</td>\n",
       "      <td>5.886104</td>\n",
       "      <td>...</td>\n",
       "      <td>1.413636</td>\n",
       "      <td>1.772594</td>\n",
       "      <td>2.020093</td>\n",
       "      <td>1</td>\n",
       "      <td>1</td>\n",
       "      <td>0</td>\n",
       "      <td>0</td>\n",
       "      <td>0</td>\n",
       "      <td>1</td>\n",
       "      <td>0</td>\n",
       "    </tr>\n",
       "    <tr>\n",
       "      <th>841</th>\n",
       "      <td>LP002911</td>\n",
       "      <td>1</td>\n",
       "      <td>1</td>\n",
       "      <td>1</td>\n",
       "      <td>0</td>\n",
       "      <td>0</td>\n",
       "      <td>7.932721</td>\n",
       "      <td>7.559038</td>\n",
       "      <td>4.983607</td>\n",
       "      <td>5.886104</td>\n",
       "      <td>...</td>\n",
       "      <td>1.606154</td>\n",
       "      <td>1.772594</td>\n",
       "      <td>2.740308</td>\n",
       "      <td>1</td>\n",
       "      <td>1</td>\n",
       "      <td>0</td>\n",
       "      <td>0</td>\n",
       "      <td>0</td>\n",
       "      <td>1</td>\n",
       "      <td>0</td>\n",
       "    </tr>\n",
       "    <tr>\n",
       "      <th>842</th>\n",
       "      <td>LP002288</td>\n",
       "      <td>1</td>\n",
       "      <td>1</td>\n",
       "      <td>2</td>\n",
       "      <td>1</td>\n",
       "      <td>0</td>\n",
       "      <td>7.968666</td>\n",
       "      <td>0.000000</td>\n",
       "      <td>3.806662</td>\n",
       "      <td>5.192957</td>\n",
       "      <td>...</td>\n",
       "      <td>1.336753</td>\n",
       "      <td>1.647303</td>\n",
       "      <td>2.075517</td>\n",
       "      <td>1</td>\n",
       "      <td>1</td>\n",
       "      <td>1</td>\n",
       "      <td>0</td>\n",
       "      <td>2</td>\n",
       "      <td>2</td>\n",
       "      <td>0</td>\n",
       "    </tr>\n",
       "    <tr>\n",
       "      <th>843</th>\n",
       "      <td>LP002493</td>\n",
       "      <td>1</td>\n",
       "      <td>0</td>\n",
       "      <td>0</td>\n",
       "      <td>0</td>\n",
       "      <td>0</td>\n",
       "      <td>8.334712</td>\n",
       "      <td>0.000000</td>\n",
       "      <td>4.584967</td>\n",
       "      <td>5.886104</td>\n",
       "      <td>...</td>\n",
       "      <td>1.522783</td>\n",
       "      <td>1.772594</td>\n",
       "      <td>2.120429</td>\n",
       "      <td>1</td>\n",
       "      <td>0</td>\n",
       "      <td>0</td>\n",
       "      <td>0</td>\n",
       "      <td>1</td>\n",
       "      <td>0</td>\n",
       "      <td>0</td>\n",
       "    </tr>\n",
       "  </tbody>\n",
       "</table>\n",
       "<p>844 rows × 26 columns</p>\n",
       "</div>"
      ],
      "text/plain": [
       "      Loan_ID  Gender  Married  Dependents  Education  Self_Employed  \\\n",
       "0    LP001002       1        0           0          0              0   \n",
       "1    LP001003       1        1           1          0              0   \n",
       "2    LP001005       1        1           0          0              1   \n",
       "3    LP001006       1        1           0          1              0   \n",
       "4    LP001008       1        0           0          0              0   \n",
       "..        ...     ...      ...         ...        ...            ...   \n",
       "839  LP001682       1        1           3          1              0   \n",
       "840  LP002898       1        1           1          0              0   \n",
       "841  LP002911       1        1           1          0              0   \n",
       "842  LP002288       1        1           2          1              0   \n",
       "843  LP002493       1        0           0          0              0   \n",
       "\n",
       "     ApplicantIncome  CoapplicantIncome  LoanAmount  Loan_Amount_Term  ...  \\\n",
       "0           8.674026           0.000000    4.986426          5.886104  ...   \n",
       "1           8.430109           7.319202    4.852030          5.886104  ...   \n",
       "2           8.006368           0.000000    4.189655          5.886104  ...   \n",
       "3           7.856707           7.765993    4.787492          5.886104  ...   \n",
       "4           8.699515           0.000000    4.948760          5.886104  ...   \n",
       "..               ...                ...         ...               ...  ...   \n",
       "839         8.292048           0.000000    4.986426          5.192957  ...   \n",
       "840         7.539027           0.000000    4.110874          5.886104  ...   \n",
       "841         7.932721           7.559038    4.983607          5.886104  ...   \n",
       "842         7.968666           0.000000    3.806662          5.192957  ...   \n",
       "843         8.334712           0.000000    4.584967          5.886104  ...   \n",
       "\n",
       "     LoanAmountLog  Loan_Amount_TermLog  Total_IncomeLog  Gender  Married  \\\n",
       "0         1.606719             1.772594         2.160333       1        0   \n",
       "1         1.579397             1.772594         2.756797       1        1   \n",
       "2         1.432618             1.772594         2.080237       1        1   \n",
       "3         1.566007             1.772594         2.748725       1        1   \n",
       "4         1.599137             1.772594         2.163267       1        0   \n",
       "..             ...                  ...              ...     ...      ...   \n",
       "839       1.606719             1.647303         2.115297       1        1   \n",
       "840       1.413636             1.772594         2.020093       1        1   \n",
       "841       1.606154             1.772594         2.740308       1        1   \n",
       "842       1.336753             1.647303         2.075517       1        1   \n",
       "843       1.522783             1.772594         2.120429       1        0   \n",
       "\n",
       "     Education  Self_Employed  Property_Area  Dependents  Loan_Status  \n",
       "0            0              0              2           0            1  \n",
       "1            0              0              0           1            0  \n",
       "2            0              1              2           0            1  \n",
       "3            1              0              2           0            1  \n",
       "4            0              0              2           0            1  \n",
       "..         ...            ...            ...         ...          ...  \n",
       "839          1              0              2           3            0  \n",
       "840          0              0              0           1            0  \n",
       "841          0              0              0           1            0  \n",
       "842          1              0              2           2            0  \n",
       "843          0              0              1           0            0  \n",
       "\n",
       "[844 rows x 26 columns]"
      ]
     },
     "execution_count": 57,
     "metadata": {},
     "output_type": "execute_result"
    }
   ],
   "source": [
    "df2"
   ]
  },
  {
   "cell_type": "code",
   "execution_count": 58,
   "id": "43d815dc",
   "metadata": {},
   "outputs": [],
   "source": [
    "df=df.drop('Loan_ID',axis=1)"
   ]
  },
  {
   "cell_type": "markdown",
   "id": "bdb749e3",
   "metadata": {},
   "source": [
    "### Chi Square Technique for Categorial Data"
   ]
  },
  {
   "cell_type": "code",
   "execution_count": 59,
   "id": "7abdc62a",
   "metadata": {},
   "outputs": [],
   "source": [
    "from sklearn.feature_selection import chi2"
   ]
  },
  {
   "cell_type": "code",
   "execution_count": 60,
   "id": "c36c5644",
   "metadata": {},
   "outputs": [],
   "source": [
    "X=df[['Gender','Married','Education','Self_Employed','Property_Area','Dependents']]"
   ]
  },
  {
   "cell_type": "code",
   "execution_count": 61,
   "id": "d689da10",
   "metadata": {},
   "outputs": [],
   "source": [
    "y=df['Loan_Status']"
   ]
  },
  {
   "cell_type": "code",
   "execution_count": 62,
   "id": "ac079a4a",
   "metadata": {},
   "outputs": [],
   "source": [
    "chi_score=chi2(X,y)"
   ]
  },
  {
   "cell_type": "code",
   "execution_count": 63,
   "id": "74e506e3",
   "metadata": {},
   "outputs": [
    {
     "data": {
      "text/plain": [
       "(array([0.78837556, 3.63909774, 5.52791878, 0.        , 0.84472769,\n",
       "        2.14880952]),\n",
       " array([0.37459177, 0.05643751, 0.01871535, 1.        , 0.35804814,\n",
       "        0.14268048]))"
      ]
     },
     "execution_count": 63,
     "metadata": {},
     "output_type": "execute_result"
    }
   ],
   "source": [
    "chi_score"
   ]
  },
  {
   "cell_type": "code",
   "execution_count": 64,
   "id": "2a210610",
   "metadata": {},
   "outputs": [
    {
     "data": {
      "text/html": [
       "<div>\n",
       "<style scoped>\n",
       "    .dataframe tbody tr th:only-of-type {\n",
       "        vertical-align: middle;\n",
       "    }\n",
       "\n",
       "    .dataframe tbody tr th {\n",
       "        vertical-align: top;\n",
       "    }\n",
       "\n",
       "    .dataframe thead th {\n",
       "        text-align: right;\n",
       "    }\n",
       "</style>\n",
       "<table border=\"1\" class=\"dataframe\">\n",
       "  <thead>\n",
       "    <tr style=\"text-align: right;\">\n",
       "      <th></th>\n",
       "      <th>Gender</th>\n",
       "      <th>Married</th>\n",
       "      <th>Education</th>\n",
       "      <th>Self_Employed</th>\n",
       "      <th>Property_Area</th>\n",
       "      <th>Dependents</th>\n",
       "      <th>Loan_Status</th>\n",
       "    </tr>\n",
       "  </thead>\n",
       "  <tbody>\n",
       "    <tr>\n",
       "      <th>0</th>\n",
       "      <td>1</td>\n",
       "      <td>0</td>\n",
       "      <td>0</td>\n",
       "      <td>0</td>\n",
       "      <td>2</td>\n",
       "      <td>0</td>\n",
       "      <td>1</td>\n",
       "    </tr>\n",
       "    <tr>\n",
       "      <th>1</th>\n",
       "      <td>1</td>\n",
       "      <td>1</td>\n",
       "      <td>0</td>\n",
       "      <td>0</td>\n",
       "      <td>0</td>\n",
       "      <td>1</td>\n",
       "      <td>0</td>\n",
       "    </tr>\n",
       "    <tr>\n",
       "      <th>2</th>\n",
       "      <td>1</td>\n",
       "      <td>1</td>\n",
       "      <td>0</td>\n",
       "      <td>1</td>\n",
       "      <td>2</td>\n",
       "      <td>0</td>\n",
       "      <td>1</td>\n",
       "    </tr>\n",
       "    <tr>\n",
       "      <th>3</th>\n",
       "      <td>1</td>\n",
       "      <td>1</td>\n",
       "      <td>1</td>\n",
       "      <td>0</td>\n",
       "      <td>2</td>\n",
       "      <td>0</td>\n",
       "      <td>1</td>\n",
       "    </tr>\n",
       "    <tr>\n",
       "      <th>4</th>\n",
       "      <td>1</td>\n",
       "      <td>0</td>\n",
       "      <td>0</td>\n",
       "      <td>0</td>\n",
       "      <td>2</td>\n",
       "      <td>0</td>\n",
       "      <td>1</td>\n",
       "    </tr>\n",
       "    <tr>\n",
       "      <th>...</th>\n",
       "      <td>...</td>\n",
       "      <td>...</td>\n",
       "      <td>...</td>\n",
       "      <td>...</td>\n",
       "      <td>...</td>\n",
       "      <td>...</td>\n",
       "      <td>...</td>\n",
       "    </tr>\n",
       "    <tr>\n",
       "      <th>839</th>\n",
       "      <td>1</td>\n",
       "      <td>1</td>\n",
       "      <td>1</td>\n",
       "      <td>0</td>\n",
       "      <td>2</td>\n",
       "      <td>3</td>\n",
       "      <td>0</td>\n",
       "    </tr>\n",
       "    <tr>\n",
       "      <th>840</th>\n",
       "      <td>1</td>\n",
       "      <td>1</td>\n",
       "      <td>0</td>\n",
       "      <td>0</td>\n",
       "      <td>0</td>\n",
       "      <td>1</td>\n",
       "      <td>0</td>\n",
       "    </tr>\n",
       "    <tr>\n",
       "      <th>841</th>\n",
       "      <td>1</td>\n",
       "      <td>1</td>\n",
       "      <td>0</td>\n",
       "      <td>0</td>\n",
       "      <td>0</td>\n",
       "      <td>1</td>\n",
       "      <td>0</td>\n",
       "    </tr>\n",
       "    <tr>\n",
       "      <th>842</th>\n",
       "      <td>1</td>\n",
       "      <td>1</td>\n",
       "      <td>1</td>\n",
       "      <td>0</td>\n",
       "      <td>2</td>\n",
       "      <td>2</td>\n",
       "      <td>0</td>\n",
       "    </tr>\n",
       "    <tr>\n",
       "      <th>843</th>\n",
       "      <td>1</td>\n",
       "      <td>0</td>\n",
       "      <td>0</td>\n",
       "      <td>0</td>\n",
       "      <td>1</td>\n",
       "      <td>0</td>\n",
       "      <td>0</td>\n",
       "    </tr>\n",
       "  </tbody>\n",
       "</table>\n",
       "<p>844 rows × 7 columns</p>\n",
       "</div>"
      ],
      "text/plain": [
       "     Gender  Married  Education  Self_Employed  Property_Area  Dependents  \\\n",
       "0         1        0          0              0              2           0   \n",
       "1         1        1          0              0              0           1   \n",
       "2         1        1          0              1              2           0   \n",
       "3         1        1          1              0              2           0   \n",
       "4         1        0          0              0              2           0   \n",
       "..      ...      ...        ...            ...            ...         ...   \n",
       "839       1        1          1              0              2           3   \n",
       "840       1        1          0              0              0           1   \n",
       "841       1        1          0              0              0           1   \n",
       "842       1        1          1              0              2           2   \n",
       "843       1        0          0              0              1           0   \n",
       "\n",
       "     Loan_Status  \n",
       "0              1  \n",
       "1              0  \n",
       "2              1  \n",
       "3              1  \n",
       "4              1  \n",
       "..           ...  \n",
       "839            0  \n",
       "840            0  \n",
       "841            0  \n",
       "842            0  \n",
       "843            0  \n",
       "\n",
       "[844 rows x 7 columns]"
      ]
     },
     "execution_count": 64,
     "metadata": {},
     "output_type": "execute_result"
    }
   ],
   "source": [
    "df1 = pd.concat([X,y],axis=1)\n",
    "df1  "
   ]
  },
  {
   "cell_type": "code",
   "execution_count": 65,
   "id": "eac6a767",
   "metadata": {},
   "outputs": [],
   "source": [
    "df2=pd.concat([df,df1],axis=1)"
   ]
  },
  {
   "cell_type": "code",
   "execution_count": 66,
   "id": "751ebb48",
   "metadata": {},
   "outputs": [
    {
     "data": {
      "text/html": [
       "<div>\n",
       "<style scoped>\n",
       "    .dataframe tbody tr th:only-of-type {\n",
       "        vertical-align: middle;\n",
       "    }\n",
       "\n",
       "    .dataframe tbody tr th {\n",
       "        vertical-align: top;\n",
       "    }\n",
       "\n",
       "    .dataframe thead th {\n",
       "        text-align: right;\n",
       "    }\n",
       "</style>\n",
       "<table border=\"1\" class=\"dataframe\">\n",
       "  <thead>\n",
       "    <tr style=\"text-align: right;\">\n",
       "      <th></th>\n",
       "      <th>Gender</th>\n",
       "      <th>Married</th>\n",
       "      <th>Dependents</th>\n",
       "      <th>Education</th>\n",
       "      <th>Self_Employed</th>\n",
       "      <th>ApplicantIncome</th>\n",
       "      <th>CoapplicantIncome</th>\n",
       "      <th>LoanAmount</th>\n",
       "      <th>Loan_Amount_Term</th>\n",
       "      <th>Credit_History</th>\n",
       "      <th>...</th>\n",
       "      <th>LoanAmountLog</th>\n",
       "      <th>Loan_Amount_TermLog</th>\n",
       "      <th>Total_IncomeLog</th>\n",
       "      <th>Gender</th>\n",
       "      <th>Married</th>\n",
       "      <th>Education</th>\n",
       "      <th>Self_Employed</th>\n",
       "      <th>Property_Area</th>\n",
       "      <th>Dependents</th>\n",
       "      <th>Loan_Status</th>\n",
       "    </tr>\n",
       "  </thead>\n",
       "  <tbody>\n",
       "    <tr>\n",
       "      <th>0</th>\n",
       "      <td>1</td>\n",
       "      <td>0</td>\n",
       "      <td>0</td>\n",
       "      <td>0</td>\n",
       "      <td>0</td>\n",
       "      <td>8.674026</td>\n",
       "      <td>0.000000</td>\n",
       "      <td>4.986426</td>\n",
       "      <td>5.886104</td>\n",
       "      <td>1.000000</td>\n",
       "      <td>...</td>\n",
       "      <td>1.606719</td>\n",
       "      <td>1.772594</td>\n",
       "      <td>2.160333</td>\n",
       "      <td>1</td>\n",
       "      <td>0</td>\n",
       "      <td>0</td>\n",
       "      <td>0</td>\n",
       "      <td>2</td>\n",
       "      <td>0</td>\n",
       "      <td>1</td>\n",
       "    </tr>\n",
       "    <tr>\n",
       "      <th>1</th>\n",
       "      <td>1</td>\n",
       "      <td>1</td>\n",
       "      <td>1</td>\n",
       "      <td>0</td>\n",
       "      <td>0</td>\n",
       "      <td>8.430109</td>\n",
       "      <td>7.319202</td>\n",
       "      <td>4.852030</td>\n",
       "      <td>5.886104</td>\n",
       "      <td>1.000000</td>\n",
       "      <td>...</td>\n",
       "      <td>1.579397</td>\n",
       "      <td>1.772594</td>\n",
       "      <td>2.756797</td>\n",
       "      <td>1</td>\n",
       "      <td>1</td>\n",
       "      <td>0</td>\n",
       "      <td>0</td>\n",
       "      <td>0</td>\n",
       "      <td>1</td>\n",
       "      <td>0</td>\n",
       "    </tr>\n",
       "    <tr>\n",
       "      <th>2</th>\n",
       "      <td>1</td>\n",
       "      <td>1</td>\n",
       "      <td>0</td>\n",
       "      <td>0</td>\n",
       "      <td>1</td>\n",
       "      <td>8.006368</td>\n",
       "      <td>0.000000</td>\n",
       "      <td>4.189655</td>\n",
       "      <td>5.886104</td>\n",
       "      <td>1.000000</td>\n",
       "      <td>...</td>\n",
       "      <td>1.432618</td>\n",
       "      <td>1.772594</td>\n",
       "      <td>2.080237</td>\n",
       "      <td>1</td>\n",
       "      <td>1</td>\n",
       "      <td>0</td>\n",
       "      <td>1</td>\n",
       "      <td>2</td>\n",
       "      <td>0</td>\n",
       "      <td>1</td>\n",
       "    </tr>\n",
       "    <tr>\n",
       "      <th>3</th>\n",
       "      <td>1</td>\n",
       "      <td>1</td>\n",
       "      <td>0</td>\n",
       "      <td>1</td>\n",
       "      <td>0</td>\n",
       "      <td>7.856707</td>\n",
       "      <td>7.765993</td>\n",
       "      <td>4.787492</td>\n",
       "      <td>5.886104</td>\n",
       "      <td>1.000000</td>\n",
       "      <td>...</td>\n",
       "      <td>1.566007</td>\n",
       "      <td>1.772594</td>\n",
       "      <td>2.748725</td>\n",
       "      <td>1</td>\n",
       "      <td>1</td>\n",
       "      <td>1</td>\n",
       "      <td>0</td>\n",
       "      <td>2</td>\n",
       "      <td>0</td>\n",
       "      <td>1</td>\n",
       "    </tr>\n",
       "    <tr>\n",
       "      <th>4</th>\n",
       "      <td>1</td>\n",
       "      <td>0</td>\n",
       "      <td>0</td>\n",
       "      <td>0</td>\n",
       "      <td>0</td>\n",
       "      <td>8.699515</td>\n",
       "      <td>0.000000</td>\n",
       "      <td>4.948760</td>\n",
       "      <td>5.886104</td>\n",
       "      <td>1.000000</td>\n",
       "      <td>...</td>\n",
       "      <td>1.599137</td>\n",
       "      <td>1.772594</td>\n",
       "      <td>2.163267</td>\n",
       "      <td>1</td>\n",
       "      <td>0</td>\n",
       "      <td>0</td>\n",
       "      <td>0</td>\n",
       "      <td>2</td>\n",
       "      <td>0</td>\n",
       "      <td>1</td>\n",
       "    </tr>\n",
       "    <tr>\n",
       "      <th>...</th>\n",
       "      <td>...</td>\n",
       "      <td>...</td>\n",
       "      <td>...</td>\n",
       "      <td>...</td>\n",
       "      <td>...</td>\n",
       "      <td>...</td>\n",
       "      <td>...</td>\n",
       "      <td>...</td>\n",
       "      <td>...</td>\n",
       "      <td>...</td>\n",
       "      <td>...</td>\n",
       "      <td>...</td>\n",
       "      <td>...</td>\n",
       "      <td>...</td>\n",
       "      <td>...</td>\n",
       "      <td>...</td>\n",
       "      <td>...</td>\n",
       "      <td>...</td>\n",
       "      <td>...</td>\n",
       "      <td>...</td>\n",
       "      <td>...</td>\n",
       "    </tr>\n",
       "    <tr>\n",
       "      <th>839</th>\n",
       "      <td>1</td>\n",
       "      <td>1</td>\n",
       "      <td>3</td>\n",
       "      <td>1</td>\n",
       "      <td>0</td>\n",
       "      <td>8.292048</td>\n",
       "      <td>0.000000</td>\n",
       "      <td>4.986426</td>\n",
       "      <td>5.192957</td>\n",
       "      <td>1.000000</td>\n",
       "      <td>...</td>\n",
       "      <td>1.606719</td>\n",
       "      <td>1.647303</td>\n",
       "      <td>2.115297</td>\n",
       "      <td>1</td>\n",
       "      <td>1</td>\n",
       "      <td>1</td>\n",
       "      <td>0</td>\n",
       "      <td>2</td>\n",
       "      <td>3</td>\n",
       "      <td>0</td>\n",
       "    </tr>\n",
       "    <tr>\n",
       "      <th>840</th>\n",
       "      <td>1</td>\n",
       "      <td>1</td>\n",
       "      <td>1</td>\n",
       "      <td>0</td>\n",
       "      <td>0</td>\n",
       "      <td>7.539027</td>\n",
       "      <td>0.000000</td>\n",
       "      <td>4.110874</td>\n",
       "      <td>5.886104</td>\n",
       "      <td>0.842199</td>\n",
       "      <td>...</td>\n",
       "      <td>1.413636</td>\n",
       "      <td>1.772594</td>\n",
       "      <td>2.020093</td>\n",
       "      <td>1</td>\n",
       "      <td>1</td>\n",
       "      <td>0</td>\n",
       "      <td>0</td>\n",
       "      <td>0</td>\n",
       "      <td>1</td>\n",
       "      <td>0</td>\n",
       "    </tr>\n",
       "    <tr>\n",
       "      <th>841</th>\n",
       "      <td>1</td>\n",
       "      <td>1</td>\n",
       "      <td>1</td>\n",
       "      <td>0</td>\n",
       "      <td>0</td>\n",
       "      <td>7.932721</td>\n",
       "      <td>7.559038</td>\n",
       "      <td>4.983607</td>\n",
       "      <td>5.886104</td>\n",
       "      <td>0.000000</td>\n",
       "      <td>...</td>\n",
       "      <td>1.606154</td>\n",
       "      <td>1.772594</td>\n",
       "      <td>2.740308</td>\n",
       "      <td>1</td>\n",
       "      <td>1</td>\n",
       "      <td>0</td>\n",
       "      <td>0</td>\n",
       "      <td>0</td>\n",
       "      <td>1</td>\n",
       "      <td>0</td>\n",
       "    </tr>\n",
       "    <tr>\n",
       "      <th>842</th>\n",
       "      <td>1</td>\n",
       "      <td>1</td>\n",
       "      <td>2</td>\n",
       "      <td>1</td>\n",
       "      <td>0</td>\n",
       "      <td>7.968666</td>\n",
       "      <td>0.000000</td>\n",
       "      <td>3.806662</td>\n",
       "      <td>5.192957</td>\n",
       "      <td>0.000000</td>\n",
       "      <td>...</td>\n",
       "      <td>1.336753</td>\n",
       "      <td>1.647303</td>\n",
       "      <td>2.075517</td>\n",
       "      <td>1</td>\n",
       "      <td>1</td>\n",
       "      <td>1</td>\n",
       "      <td>0</td>\n",
       "      <td>2</td>\n",
       "      <td>2</td>\n",
       "      <td>0</td>\n",
       "    </tr>\n",
       "    <tr>\n",
       "      <th>843</th>\n",
       "      <td>1</td>\n",
       "      <td>0</td>\n",
       "      <td>0</td>\n",
       "      <td>0</td>\n",
       "      <td>0</td>\n",
       "      <td>8.334712</td>\n",
       "      <td>0.000000</td>\n",
       "      <td>4.584967</td>\n",
       "      <td>5.886104</td>\n",
       "      <td>0.000000</td>\n",
       "      <td>...</td>\n",
       "      <td>1.522783</td>\n",
       "      <td>1.772594</td>\n",
       "      <td>2.120429</td>\n",
       "      <td>1</td>\n",
       "      <td>0</td>\n",
       "      <td>0</td>\n",
       "      <td>0</td>\n",
       "      <td>1</td>\n",
       "      <td>0</td>\n",
       "      <td>0</td>\n",
       "    </tr>\n",
       "  </tbody>\n",
       "</table>\n",
       "<p>844 rows × 25 columns</p>\n",
       "</div>"
      ],
      "text/plain": [
       "     Gender  Married  Dependents  Education  Self_Employed  ApplicantIncome  \\\n",
       "0         1        0           0          0              0         8.674026   \n",
       "1         1        1           1          0              0         8.430109   \n",
       "2         1        1           0          0              1         8.006368   \n",
       "3         1        1           0          1              0         7.856707   \n",
       "4         1        0           0          0              0         8.699515   \n",
       "..      ...      ...         ...        ...            ...              ...   \n",
       "839       1        1           3          1              0         8.292048   \n",
       "840       1        1           1          0              0         7.539027   \n",
       "841       1        1           1          0              0         7.932721   \n",
       "842       1        1           2          1              0         7.968666   \n",
       "843       1        0           0          0              0         8.334712   \n",
       "\n",
       "     CoapplicantIncome  LoanAmount  Loan_Amount_Term  Credit_History  ...  \\\n",
       "0             0.000000    4.986426          5.886104        1.000000  ...   \n",
       "1             7.319202    4.852030          5.886104        1.000000  ...   \n",
       "2             0.000000    4.189655          5.886104        1.000000  ...   \n",
       "3             7.765993    4.787492          5.886104        1.000000  ...   \n",
       "4             0.000000    4.948760          5.886104        1.000000  ...   \n",
       "..                 ...         ...               ...             ...  ...   \n",
       "839           0.000000    4.986426          5.192957        1.000000  ...   \n",
       "840           0.000000    4.110874          5.886104        0.842199  ...   \n",
       "841           7.559038    4.983607          5.886104        0.000000  ...   \n",
       "842           0.000000    3.806662          5.192957        0.000000  ...   \n",
       "843           0.000000    4.584967          5.886104        0.000000  ...   \n",
       "\n",
       "     LoanAmountLog  Loan_Amount_TermLog  Total_IncomeLog  Gender  Married  \\\n",
       "0         1.606719             1.772594         2.160333       1        0   \n",
       "1         1.579397             1.772594         2.756797       1        1   \n",
       "2         1.432618             1.772594         2.080237       1        1   \n",
       "3         1.566007             1.772594         2.748725       1        1   \n",
       "4         1.599137             1.772594         2.163267       1        0   \n",
       "..             ...                  ...              ...     ...      ...   \n",
       "839       1.606719             1.647303         2.115297       1        1   \n",
       "840       1.413636             1.772594         2.020093       1        1   \n",
       "841       1.606154             1.772594         2.740308       1        1   \n",
       "842       1.336753             1.647303         2.075517       1        1   \n",
       "843       1.522783             1.772594         2.120429       1        0   \n",
       "\n",
       "     Education  Self_Employed  Property_Area  Dependents  Loan_Status  \n",
       "0            0              0              2           0            1  \n",
       "1            0              0              0           1            0  \n",
       "2            0              1              2           0            1  \n",
       "3            1              0              2           0            1  \n",
       "4            0              0              2           0            1  \n",
       "..         ...            ...            ...         ...          ...  \n",
       "839          1              0              2           3            0  \n",
       "840          0              0              0           1            0  \n",
       "841          0              0              0           1            0  \n",
       "842          1              0              2           2            0  \n",
       "843          0              0              1           0            0  \n",
       "\n",
       "[844 rows x 25 columns]"
      ]
     },
     "execution_count": 66,
     "metadata": {},
     "output_type": "execute_result"
    }
   ],
   "source": [
    "df2"
   ]
  },
  {
   "cell_type": "code",
   "execution_count": 67,
   "id": "b21530b1",
   "metadata": {},
   "outputs": [],
   "source": [
    "df=df.drop('Gender',axis=1)"
   ]
  },
  {
   "cell_type": "code",
   "execution_count": 68,
   "id": "279f6ea4",
   "metadata": {},
   "outputs": [],
   "source": [
    "df=df.drop('Property_Area',axis=1)"
   ]
  },
  {
   "cell_type": "code",
   "execution_count": 69,
   "id": "d099b75a",
   "metadata": {},
   "outputs": [
    {
     "data": {
      "text/html": [
       "<div>\n",
       "<style scoped>\n",
       "    .dataframe tbody tr th:only-of-type {\n",
       "        vertical-align: middle;\n",
       "    }\n",
       "\n",
       "    .dataframe tbody tr th {\n",
       "        vertical-align: top;\n",
       "    }\n",
       "\n",
       "    .dataframe thead th {\n",
       "        text-align: right;\n",
       "    }\n",
       "</style>\n",
       "<table border=\"1\" class=\"dataframe\">\n",
       "  <thead>\n",
       "    <tr style=\"text-align: right;\">\n",
       "      <th></th>\n",
       "      <th>Married</th>\n",
       "      <th>Dependents</th>\n",
       "      <th>Education</th>\n",
       "      <th>ApplicantIncome</th>\n",
       "      <th>CoapplicantIncome</th>\n",
       "      <th>LoanAmount</th>\n",
       "      <th>Loan_Amount_Term</th>\n",
       "      <th>Credit_History</th>\n",
       "      <th>Loan_Status</th>\n",
       "      <th>Total_Income</th>\n",
       "      <th>ApplicantIncomeLog</th>\n",
       "      <th>CoapplicantIncomeLog</th>\n",
       "      <th>LoanAmountLog</th>\n",
       "      <th>Loan_Amount_TermLog</th>\n",
       "      <th>Total_IncomeLog</th>\n",
       "    </tr>\n",
       "  </thead>\n",
       "  <tbody>\n",
       "    <tr>\n",
       "      <th>0</th>\n",
       "      <td>0</td>\n",
       "      <td>0</td>\n",
       "      <td>0</td>\n",
       "      <td>8.674026</td>\n",
       "      <td>0.000000</td>\n",
       "      <td>4.986426</td>\n",
       "      <td>5.886104</td>\n",
       "      <td>1.000000</td>\n",
       "      <td>1</td>\n",
       "      <td>8.674026</td>\n",
       "      <td>2.160333</td>\n",
       "      <td>0.000000</td>\n",
       "      <td>1.606719</td>\n",
       "      <td>1.772594</td>\n",
       "      <td>2.160333</td>\n",
       "    </tr>\n",
       "    <tr>\n",
       "      <th>1</th>\n",
       "      <td>1</td>\n",
       "      <td>1</td>\n",
       "      <td>0</td>\n",
       "      <td>8.430109</td>\n",
       "      <td>7.319202</td>\n",
       "      <td>4.852030</td>\n",
       "      <td>5.886104</td>\n",
       "      <td>1.000000</td>\n",
       "      <td>0</td>\n",
       "      <td>15.749312</td>\n",
       "      <td>2.131810</td>\n",
       "      <td>2.118566</td>\n",
       "      <td>1.579397</td>\n",
       "      <td>1.772594</td>\n",
       "      <td>2.756797</td>\n",
       "    </tr>\n",
       "    <tr>\n",
       "      <th>2</th>\n",
       "      <td>1</td>\n",
       "      <td>0</td>\n",
       "      <td>0</td>\n",
       "      <td>8.006368</td>\n",
       "      <td>0.000000</td>\n",
       "      <td>4.189655</td>\n",
       "      <td>5.886104</td>\n",
       "      <td>1.000000</td>\n",
       "      <td>1</td>\n",
       "      <td>8.006368</td>\n",
       "      <td>2.080237</td>\n",
       "      <td>0.000000</td>\n",
       "      <td>1.432618</td>\n",
       "      <td>1.772594</td>\n",
       "      <td>2.080237</td>\n",
       "    </tr>\n",
       "    <tr>\n",
       "      <th>3</th>\n",
       "      <td>1</td>\n",
       "      <td>0</td>\n",
       "      <td>1</td>\n",
       "      <td>7.856707</td>\n",
       "      <td>7.765993</td>\n",
       "      <td>4.787492</td>\n",
       "      <td>5.886104</td>\n",
       "      <td>1.000000</td>\n",
       "      <td>1</td>\n",
       "      <td>15.622700</td>\n",
       "      <td>2.061368</td>\n",
       "      <td>2.170880</td>\n",
       "      <td>1.566007</td>\n",
       "      <td>1.772594</td>\n",
       "      <td>2.748725</td>\n",
       "    </tr>\n",
       "    <tr>\n",
       "      <th>4</th>\n",
       "      <td>0</td>\n",
       "      <td>0</td>\n",
       "      <td>0</td>\n",
       "      <td>8.699515</td>\n",
       "      <td>0.000000</td>\n",
       "      <td>4.948760</td>\n",
       "      <td>5.886104</td>\n",
       "      <td>1.000000</td>\n",
       "      <td>1</td>\n",
       "      <td>8.699515</td>\n",
       "      <td>2.163267</td>\n",
       "      <td>0.000000</td>\n",
       "      <td>1.599137</td>\n",
       "      <td>1.772594</td>\n",
       "      <td>2.163267</td>\n",
       "    </tr>\n",
       "    <tr>\n",
       "      <th>...</th>\n",
       "      <td>...</td>\n",
       "      <td>...</td>\n",
       "      <td>...</td>\n",
       "      <td>...</td>\n",
       "      <td>...</td>\n",
       "      <td>...</td>\n",
       "      <td>...</td>\n",
       "      <td>...</td>\n",
       "      <td>...</td>\n",
       "      <td>...</td>\n",
       "      <td>...</td>\n",
       "      <td>...</td>\n",
       "      <td>...</td>\n",
       "      <td>...</td>\n",
       "      <td>...</td>\n",
       "    </tr>\n",
       "    <tr>\n",
       "      <th>839</th>\n",
       "      <td>1</td>\n",
       "      <td>3</td>\n",
       "      <td>1</td>\n",
       "      <td>8.292048</td>\n",
       "      <td>0.000000</td>\n",
       "      <td>4.986426</td>\n",
       "      <td>5.192957</td>\n",
       "      <td>1.000000</td>\n",
       "      <td>0</td>\n",
       "      <td>8.292048</td>\n",
       "      <td>2.115297</td>\n",
       "      <td>0.000000</td>\n",
       "      <td>1.606719</td>\n",
       "      <td>1.647303</td>\n",
       "      <td>2.115297</td>\n",
       "    </tr>\n",
       "    <tr>\n",
       "      <th>840</th>\n",
       "      <td>1</td>\n",
       "      <td>1</td>\n",
       "      <td>0</td>\n",
       "      <td>7.539027</td>\n",
       "      <td>0.000000</td>\n",
       "      <td>4.110874</td>\n",
       "      <td>5.886104</td>\n",
       "      <td>0.842199</td>\n",
       "      <td>0</td>\n",
       "      <td>7.539027</td>\n",
       "      <td>2.020093</td>\n",
       "      <td>0.000000</td>\n",
       "      <td>1.413636</td>\n",
       "      <td>1.772594</td>\n",
       "      <td>2.020093</td>\n",
       "    </tr>\n",
       "    <tr>\n",
       "      <th>841</th>\n",
       "      <td>1</td>\n",
       "      <td>1</td>\n",
       "      <td>0</td>\n",
       "      <td>7.932721</td>\n",
       "      <td>7.559038</td>\n",
       "      <td>4.983607</td>\n",
       "      <td>5.886104</td>\n",
       "      <td>0.000000</td>\n",
       "      <td>0</td>\n",
       "      <td>15.491759</td>\n",
       "      <td>2.070996</td>\n",
       "      <td>2.146988</td>\n",
       "      <td>1.606154</td>\n",
       "      <td>1.772594</td>\n",
       "      <td>2.740308</td>\n",
       "    </tr>\n",
       "    <tr>\n",
       "      <th>842</th>\n",
       "      <td>1</td>\n",
       "      <td>2</td>\n",
       "      <td>1</td>\n",
       "      <td>7.968666</td>\n",
       "      <td>0.000000</td>\n",
       "      <td>3.806662</td>\n",
       "      <td>5.192957</td>\n",
       "      <td>0.000000</td>\n",
       "      <td>0</td>\n",
       "      <td>7.968666</td>\n",
       "      <td>2.075517</td>\n",
       "      <td>0.000000</td>\n",
       "      <td>1.336753</td>\n",
       "      <td>1.647303</td>\n",
       "      <td>2.075517</td>\n",
       "    </tr>\n",
       "    <tr>\n",
       "      <th>843</th>\n",
       "      <td>0</td>\n",
       "      <td>0</td>\n",
       "      <td>0</td>\n",
       "      <td>8.334712</td>\n",
       "      <td>0.000000</td>\n",
       "      <td>4.584967</td>\n",
       "      <td>5.886104</td>\n",
       "      <td>0.000000</td>\n",
       "      <td>0</td>\n",
       "      <td>8.334712</td>\n",
       "      <td>2.120429</td>\n",
       "      <td>0.000000</td>\n",
       "      <td>1.522783</td>\n",
       "      <td>1.772594</td>\n",
       "      <td>2.120429</td>\n",
       "    </tr>\n",
       "  </tbody>\n",
       "</table>\n",
       "<p>844 rows × 15 columns</p>\n",
       "</div>"
      ],
      "text/plain": [
       "     Married  Dependents  Education  ApplicantIncome  CoapplicantIncome  \\\n",
       "0          0           0          0         8.674026           0.000000   \n",
       "1          1           1          0         8.430109           7.319202   \n",
       "2          1           0          0         8.006368           0.000000   \n",
       "3          1           0          1         7.856707           7.765993   \n",
       "4          0           0          0         8.699515           0.000000   \n",
       "..       ...         ...        ...              ...                ...   \n",
       "839        1           3          1         8.292048           0.000000   \n",
       "840        1           1          0         7.539027           0.000000   \n",
       "841        1           1          0         7.932721           7.559038   \n",
       "842        1           2          1         7.968666           0.000000   \n",
       "843        0           0          0         8.334712           0.000000   \n",
       "\n",
       "     LoanAmount  Loan_Amount_Term  Credit_History  Loan_Status  Total_Income  \\\n",
       "0      4.986426          5.886104        1.000000            1      8.674026   \n",
       "1      4.852030          5.886104        1.000000            0     15.749312   \n",
       "2      4.189655          5.886104        1.000000            1      8.006368   \n",
       "3      4.787492          5.886104        1.000000            1     15.622700   \n",
       "4      4.948760          5.886104        1.000000            1      8.699515   \n",
       "..          ...               ...             ...          ...           ...   \n",
       "839    4.986426          5.192957        1.000000            0      8.292048   \n",
       "840    4.110874          5.886104        0.842199            0      7.539027   \n",
       "841    4.983607          5.886104        0.000000            0     15.491759   \n",
       "842    3.806662          5.192957        0.000000            0      7.968666   \n",
       "843    4.584967          5.886104        0.000000            0      8.334712   \n",
       "\n",
       "     ApplicantIncomeLog  CoapplicantIncomeLog  LoanAmountLog  \\\n",
       "0              2.160333              0.000000       1.606719   \n",
       "1              2.131810              2.118566       1.579397   \n",
       "2              2.080237              0.000000       1.432618   \n",
       "3              2.061368              2.170880       1.566007   \n",
       "4              2.163267              0.000000       1.599137   \n",
       "..                  ...                   ...            ...   \n",
       "839            2.115297              0.000000       1.606719   \n",
       "840            2.020093              0.000000       1.413636   \n",
       "841            2.070996              2.146988       1.606154   \n",
       "842            2.075517              0.000000       1.336753   \n",
       "843            2.120429              0.000000       1.522783   \n",
       "\n",
       "     Loan_Amount_TermLog  Total_IncomeLog  \n",
       "0               1.772594         2.160333  \n",
       "1               1.772594         2.756797  \n",
       "2               1.772594         2.080237  \n",
       "3               1.772594         2.748725  \n",
       "4               1.772594         2.163267  \n",
       "..                   ...              ...  \n",
       "839             1.647303         2.115297  \n",
       "840             1.772594         2.020093  \n",
       "841             1.772594         2.740308  \n",
       "842             1.647303         2.075517  \n",
       "843             1.772594         2.120429  \n",
       "\n",
       "[844 rows x 15 columns]"
      ]
     },
     "execution_count": 69,
     "metadata": {},
     "output_type": "execute_result"
    }
   ],
   "source": [
    "df.drop('Self_Employed',axis=1)"
   ]
  },
  {
   "cell_type": "code",
   "execution_count": 70,
   "id": "6723da52",
   "metadata": {},
   "outputs": [],
   "source": [
    "from statsmodels.stats.outliers_influence import variance_inflation_factor"
   ]
  },
  {
   "cell_type": "code",
   "execution_count": 71,
   "id": "25b5361e",
   "metadata": {},
   "outputs": [],
   "source": [
    "def vif(data):\n",
    "    vif=pd.DataFrame()\n",
    "    vif['features']=df.columns\n",
    "    vif[\"VIF\"]=[variance_inflation_factor(df.values,i) for i in range(df.shape[1])]\n",
    "    vif[\"VIF\"]=round(vif[\"VIF\"],2)\n",
    "    vif=vif.sort_values(by=\"VIF\",ascending=False)\n",
    "    return vif"
   ]
  },
  {
   "cell_type": "code",
   "execution_count": 72,
   "id": "8eea1e7c",
   "metadata": {},
   "outputs": [
    {
     "data": {
      "text/html": [
       "<div>\n",
       "<style scoped>\n",
       "    .dataframe tbody tr th:only-of-type {\n",
       "        vertical-align: middle;\n",
       "    }\n",
       "\n",
       "    .dataframe tbody tr th {\n",
       "        vertical-align: top;\n",
       "    }\n",
       "\n",
       "    .dataframe thead th {\n",
       "        text-align: right;\n",
       "    }\n",
       "</style>\n",
       "<table border=\"1\" class=\"dataframe\">\n",
       "  <thead>\n",
       "    <tr style=\"text-align: right;\">\n",
       "      <th></th>\n",
       "      <th>features</th>\n",
       "      <th>VIF</th>\n",
       "    </tr>\n",
       "  </thead>\n",
       "  <tbody>\n",
       "    <tr>\n",
       "      <th>4</th>\n",
       "      <td>ApplicantIncome</td>\n",
       "      <td>inf</td>\n",
       "    </tr>\n",
       "    <tr>\n",
       "      <th>5</th>\n",
       "      <td>CoapplicantIncome</td>\n",
       "      <td>inf</td>\n",
       "    </tr>\n",
       "    <tr>\n",
       "      <th>10</th>\n",
       "      <td>Total_Income</td>\n",
       "      <td>inf</td>\n",
       "    </tr>\n",
       "    <tr>\n",
       "      <th>14</th>\n",
       "      <td>Loan_Amount_TermLog</td>\n",
       "      <td>46552.46</td>\n",
       "    </tr>\n",
       "    <tr>\n",
       "      <th>11</th>\n",
       "      <td>ApplicantIncomeLog</td>\n",
       "      <td>26517.14</td>\n",
       "    </tr>\n",
       "    <tr>\n",
       "      <th>7</th>\n",
       "      <td>Loan_Amount_Term</td>\n",
       "      <td>21609.23</td>\n",
       "    </tr>\n",
       "    <tr>\n",
       "      <th>13</th>\n",
       "      <td>LoanAmountLog</td>\n",
       "      <td>18583.20</td>\n",
       "    </tr>\n",
       "    <tr>\n",
       "      <th>15</th>\n",
       "      <td>Total_IncomeLog</td>\n",
       "      <td>16056.70</td>\n",
       "    </tr>\n",
       "    <tr>\n",
       "      <th>6</th>\n",
       "      <td>LoanAmount</td>\n",
       "      <td>8630.52</td>\n",
       "    </tr>\n",
       "    <tr>\n",
       "      <th>12</th>\n",
       "      <td>CoapplicantIncomeLog</td>\n",
       "      <td>532.09</td>\n",
       "    </tr>\n",
       "    <tr>\n",
       "      <th>8</th>\n",
       "      <td>Credit_History</td>\n",
       "      <td>5.98</td>\n",
       "    </tr>\n",
       "    <tr>\n",
       "      <th>0</th>\n",
       "      <td>Married</td>\n",
       "      <td>3.50</td>\n",
       "    </tr>\n",
       "    <tr>\n",
       "      <th>9</th>\n",
       "      <td>Loan_Status</td>\n",
       "      <td>2.91</td>\n",
       "    </tr>\n",
       "    <tr>\n",
       "      <th>1</th>\n",
       "      <td>Dependents</td>\n",
       "      <td>1.85</td>\n",
       "    </tr>\n",
       "    <tr>\n",
       "      <th>2</th>\n",
       "      <td>Education</td>\n",
       "      <td>1.43</td>\n",
       "    </tr>\n",
       "    <tr>\n",
       "      <th>3</th>\n",
       "      <td>Self_Employed</td>\n",
       "      <td>1.21</td>\n",
       "    </tr>\n",
       "  </tbody>\n",
       "</table>\n",
       "</div>"
      ],
      "text/plain": [
       "                features       VIF\n",
       "4        ApplicantIncome       inf\n",
       "5      CoapplicantIncome       inf\n",
       "10          Total_Income       inf\n",
       "14   Loan_Amount_TermLog  46552.46\n",
       "11    ApplicantIncomeLog  26517.14\n",
       "7       Loan_Amount_Term  21609.23\n",
       "13         LoanAmountLog  18583.20\n",
       "15       Total_IncomeLog  16056.70\n",
       "6             LoanAmount   8630.52\n",
       "12  CoapplicantIncomeLog    532.09\n",
       "8         Credit_History      5.98\n",
       "0                Married      3.50\n",
       "9            Loan_Status      2.91\n",
       "1             Dependents      1.85\n",
       "2              Education      1.43\n",
       "3          Self_Employed      1.21"
      ]
     },
     "execution_count": 72,
     "metadata": {},
     "output_type": "execute_result"
    }
   ],
   "source": [
    "vif(df)"
   ]
  },
  {
   "cell_type": "code",
   "execution_count": 73,
   "id": "faa643ce",
   "metadata": {},
   "outputs": [],
   "source": [
    "df=df.drop('ApplicantIncome',axis=1)"
   ]
  },
  {
   "cell_type": "code",
   "execution_count": 74,
   "id": "ddd87fd9",
   "metadata": {},
   "outputs": [],
   "source": [
    "df=df.drop('CoapplicantIncome',axis=1)"
   ]
  },
  {
   "cell_type": "code",
   "execution_count": 75,
   "id": "6adce02c",
   "metadata": {},
   "outputs": [],
   "source": [
    "df=df.drop('Total_Income',axis=1)"
   ]
  },
  {
   "cell_type": "code",
   "execution_count": 76,
   "id": "0a961309",
   "metadata": {},
   "outputs": [
    {
     "data": {
      "text/html": [
       "<div>\n",
       "<style scoped>\n",
       "    .dataframe tbody tr th:only-of-type {\n",
       "        vertical-align: middle;\n",
       "    }\n",
       "\n",
       "    .dataframe tbody tr th {\n",
       "        vertical-align: top;\n",
       "    }\n",
       "\n",
       "    .dataframe thead th {\n",
       "        text-align: right;\n",
       "    }\n",
       "</style>\n",
       "<table border=\"1\" class=\"dataframe\">\n",
       "  <thead>\n",
       "    <tr style=\"text-align: right;\">\n",
       "      <th></th>\n",
       "      <th>features</th>\n",
       "      <th>VIF</th>\n",
       "    </tr>\n",
       "  </thead>\n",
       "  <tbody>\n",
       "    <tr>\n",
       "      <th>11</th>\n",
       "      <td>Loan_Amount_TermLog</td>\n",
       "      <td>25946.12</td>\n",
       "    </tr>\n",
       "    <tr>\n",
       "      <th>5</th>\n",
       "      <td>Loan_Amount_Term</td>\n",
       "      <td>12912.00</td>\n",
       "    </tr>\n",
       "    <tr>\n",
       "      <th>10</th>\n",
       "      <td>LoanAmountLog</td>\n",
       "      <td>11680.94</td>\n",
       "    </tr>\n",
       "    <tr>\n",
       "      <th>12</th>\n",
       "      <td>Total_IncomeLog</td>\n",
       "      <td>10600.84</td>\n",
       "    </tr>\n",
       "    <tr>\n",
       "      <th>4</th>\n",
       "      <td>LoanAmount</td>\n",
       "      <td>5185.55</td>\n",
       "    </tr>\n",
       "    <tr>\n",
       "      <th>8</th>\n",
       "      <td>ApplicantIncomeLog</td>\n",
       "      <td>3428.45</td>\n",
       "    </tr>\n",
       "    <tr>\n",
       "      <th>9</th>\n",
       "      <td>CoapplicantIncomeLog</td>\n",
       "      <td>390.82</td>\n",
       "    </tr>\n",
       "    <tr>\n",
       "      <th>6</th>\n",
       "      <td>Credit_History</td>\n",
       "      <td>5.98</td>\n",
       "    </tr>\n",
       "    <tr>\n",
       "      <th>0</th>\n",
       "      <td>Married</td>\n",
       "      <td>3.34</td>\n",
       "    </tr>\n",
       "    <tr>\n",
       "      <th>7</th>\n",
       "      <td>Loan_Status</td>\n",
       "      <td>2.88</td>\n",
       "    </tr>\n",
       "    <tr>\n",
       "      <th>1</th>\n",
       "      <td>Dependents</td>\n",
       "      <td>1.85</td>\n",
       "    </tr>\n",
       "    <tr>\n",
       "      <th>2</th>\n",
       "      <td>Education</td>\n",
       "      <td>1.41</td>\n",
       "    </tr>\n",
       "    <tr>\n",
       "      <th>3</th>\n",
       "      <td>Self_Employed</td>\n",
       "      <td>1.20</td>\n",
       "    </tr>\n",
       "  </tbody>\n",
       "</table>\n",
       "</div>"
      ],
      "text/plain": [
       "                features       VIF\n",
       "11   Loan_Amount_TermLog  25946.12\n",
       "5       Loan_Amount_Term  12912.00\n",
       "10         LoanAmountLog  11680.94\n",
       "12       Total_IncomeLog  10600.84\n",
       "4             LoanAmount   5185.55\n",
       "8     ApplicantIncomeLog   3428.45\n",
       "9   CoapplicantIncomeLog    390.82\n",
       "6         Credit_History      5.98\n",
       "0                Married      3.34\n",
       "7            Loan_Status      2.88\n",
       "1             Dependents      1.85\n",
       "2              Education      1.41\n",
       "3          Self_Employed      1.20"
      ]
     },
     "execution_count": 76,
     "metadata": {},
     "output_type": "execute_result"
    }
   ],
   "source": [
    "vif(df)"
   ]
  },
  {
   "cell_type": "code",
   "execution_count": 77,
   "id": "a4c58373",
   "metadata": {},
   "outputs": [],
   "source": [
    "df=df.drop('CoapplicantIncomeLog',axis=1)"
   ]
  },
  {
   "cell_type": "code",
   "execution_count": 78,
   "id": "f846474a",
   "metadata": {},
   "outputs": [
    {
     "data": {
      "text/html": [
       "<div>\n",
       "<style scoped>\n",
       "    .dataframe tbody tr th:only-of-type {\n",
       "        vertical-align: middle;\n",
       "    }\n",
       "\n",
       "    .dataframe tbody tr th {\n",
       "        vertical-align: top;\n",
       "    }\n",
       "\n",
       "    .dataframe thead th {\n",
       "        text-align: right;\n",
       "    }\n",
       "</style>\n",
       "<table border=\"1\" class=\"dataframe\">\n",
       "  <thead>\n",
       "    <tr style=\"text-align: right;\">\n",
       "      <th></th>\n",
       "      <th>features</th>\n",
       "      <th>VIF</th>\n",
       "    </tr>\n",
       "  </thead>\n",
       "  <tbody>\n",
       "    <tr>\n",
       "      <th>10</th>\n",
       "      <td>Loan_Amount_TermLog</td>\n",
       "      <td>17329.15</td>\n",
       "    </tr>\n",
       "    <tr>\n",
       "      <th>9</th>\n",
       "      <td>LoanAmountLog</td>\n",
       "      <td>11680.85</td>\n",
       "    </tr>\n",
       "    <tr>\n",
       "      <th>5</th>\n",
       "      <td>Loan_Amount_Term</td>\n",
       "      <td>8831.70</td>\n",
       "    </tr>\n",
       "    <tr>\n",
       "      <th>4</th>\n",
       "      <td>LoanAmount</td>\n",
       "      <td>5147.59</td>\n",
       "    </tr>\n",
       "    <tr>\n",
       "      <th>8</th>\n",
       "      <td>ApplicantIncomeLog</td>\n",
       "      <td>729.86</td>\n",
       "    </tr>\n",
       "    <tr>\n",
       "      <th>11</th>\n",
       "      <td>Total_IncomeLog</td>\n",
       "      <td>84.69</td>\n",
       "    </tr>\n",
       "    <tr>\n",
       "      <th>6</th>\n",
       "      <td>Credit_History</td>\n",
       "      <td>5.98</td>\n",
       "    </tr>\n",
       "    <tr>\n",
       "      <th>0</th>\n",
       "      <td>Married</td>\n",
       "      <td>3.33</td>\n",
       "    </tr>\n",
       "    <tr>\n",
       "      <th>7</th>\n",
       "      <td>Loan_Status</td>\n",
       "      <td>2.88</td>\n",
       "    </tr>\n",
       "    <tr>\n",
       "      <th>1</th>\n",
       "      <td>Dependents</td>\n",
       "      <td>1.84</td>\n",
       "    </tr>\n",
       "    <tr>\n",
       "      <th>2</th>\n",
       "      <td>Education</td>\n",
       "      <td>1.40</td>\n",
       "    </tr>\n",
       "    <tr>\n",
       "      <th>3</th>\n",
       "      <td>Self_Employed</td>\n",
       "      <td>1.20</td>\n",
       "    </tr>\n",
       "  </tbody>\n",
       "</table>\n",
       "</div>"
      ],
      "text/plain": [
       "               features       VIF\n",
       "10  Loan_Amount_TermLog  17329.15\n",
       "9         LoanAmountLog  11680.85\n",
       "5      Loan_Amount_Term   8831.70\n",
       "4            LoanAmount   5147.59\n",
       "8    ApplicantIncomeLog    729.86\n",
       "11      Total_IncomeLog     84.69\n",
       "6        Credit_History      5.98\n",
       "0               Married      3.33\n",
       "7           Loan_Status      2.88\n",
       "1            Dependents      1.84\n",
       "2             Education      1.40\n",
       "3         Self_Employed      1.20"
      ]
     },
     "execution_count": 78,
     "metadata": {},
     "output_type": "execute_result"
    }
   ],
   "source": [
    "vif(df)"
   ]
  },
  {
   "cell_type": "code",
   "execution_count": 79,
   "id": "sporting-wealth",
   "metadata": {
    "execution": {
     "iopub.execute_input": "2021-04-05T20:22:49.929159Z",
     "iopub.status.busy": "2021-04-05T20:22:49.922986Z",
     "iopub.status.idle": "2021-04-05T20:22:49.934824Z",
     "shell.execute_reply": "2021-04-05T20:22:49.934142Z"
    },
    "papermill": {
     "duration": 0.115407,
     "end_time": "2021-04-05T20:22:49.934979",
     "exception": false,
     "start_time": "2021-04-05T20:22:49.819572",
     "status": "completed"
    },
    "tags": []
   },
   "outputs": [
    {
     "data": {
      "text/html": [
       "<div>\n",
       "<style scoped>\n",
       "    .dataframe tbody tr th:only-of-type {\n",
       "        vertical-align: middle;\n",
       "    }\n",
       "\n",
       "    .dataframe tbody tr th {\n",
       "        vertical-align: top;\n",
       "    }\n",
       "\n",
       "    .dataframe thead th {\n",
       "        text-align: right;\n",
       "    }\n",
       "</style>\n",
       "<table border=\"1\" class=\"dataframe\">\n",
       "  <thead>\n",
       "    <tr style=\"text-align: right;\">\n",
       "      <th></th>\n",
       "      <th>Married</th>\n",
       "      <th>Dependents</th>\n",
       "      <th>Education</th>\n",
       "      <th>Self_Employed</th>\n",
       "      <th>LoanAmount</th>\n",
       "      <th>Loan_Amount_Term</th>\n",
       "      <th>Credit_History</th>\n",
       "      <th>Loan_Status</th>\n",
       "      <th>ApplicantIncomeLog</th>\n",
       "      <th>LoanAmountLog</th>\n",
       "      <th>Loan_Amount_TermLog</th>\n",
       "      <th>Total_IncomeLog</th>\n",
       "    </tr>\n",
       "  </thead>\n",
       "  <tbody>\n",
       "    <tr>\n",
       "      <th>0</th>\n",
       "      <td>0</td>\n",
       "      <td>0</td>\n",
       "      <td>0</td>\n",
       "      <td>0</td>\n",
       "      <td>4.986426</td>\n",
       "      <td>5.886104</td>\n",
       "      <td>1.0</td>\n",
       "      <td>1</td>\n",
       "      <td>2.160333</td>\n",
       "      <td>1.606719</td>\n",
       "      <td>1.772594</td>\n",
       "      <td>2.160333</td>\n",
       "    </tr>\n",
       "    <tr>\n",
       "      <th>1</th>\n",
       "      <td>1</td>\n",
       "      <td>1</td>\n",
       "      <td>0</td>\n",
       "      <td>0</td>\n",
       "      <td>4.852030</td>\n",
       "      <td>5.886104</td>\n",
       "      <td>1.0</td>\n",
       "      <td>0</td>\n",
       "      <td>2.131810</td>\n",
       "      <td>1.579397</td>\n",
       "      <td>1.772594</td>\n",
       "      <td>2.756797</td>\n",
       "    </tr>\n",
       "    <tr>\n",
       "      <th>2</th>\n",
       "      <td>1</td>\n",
       "      <td>0</td>\n",
       "      <td>0</td>\n",
       "      <td>1</td>\n",
       "      <td>4.189655</td>\n",
       "      <td>5.886104</td>\n",
       "      <td>1.0</td>\n",
       "      <td>1</td>\n",
       "      <td>2.080237</td>\n",
       "      <td>1.432618</td>\n",
       "      <td>1.772594</td>\n",
       "      <td>2.080237</td>\n",
       "    </tr>\n",
       "    <tr>\n",
       "      <th>3</th>\n",
       "      <td>1</td>\n",
       "      <td>0</td>\n",
       "      <td>1</td>\n",
       "      <td>0</td>\n",
       "      <td>4.787492</td>\n",
       "      <td>5.886104</td>\n",
       "      <td>1.0</td>\n",
       "      <td>1</td>\n",
       "      <td>2.061368</td>\n",
       "      <td>1.566007</td>\n",
       "      <td>1.772594</td>\n",
       "      <td>2.748725</td>\n",
       "    </tr>\n",
       "    <tr>\n",
       "      <th>4</th>\n",
       "      <td>0</td>\n",
       "      <td>0</td>\n",
       "      <td>0</td>\n",
       "      <td>0</td>\n",
       "      <td>4.948760</td>\n",
       "      <td>5.886104</td>\n",
       "      <td>1.0</td>\n",
       "      <td>1</td>\n",
       "      <td>2.163267</td>\n",
       "      <td>1.599137</td>\n",
       "      <td>1.772594</td>\n",
       "      <td>2.163267</td>\n",
       "    </tr>\n",
       "  </tbody>\n",
       "</table>\n",
       "</div>"
      ],
      "text/plain": [
       "   Married  Dependents  Education  Self_Employed  LoanAmount  \\\n",
       "0        0           0          0              0    4.986426   \n",
       "1        1           1          0              0    4.852030   \n",
       "2        1           0          0              1    4.189655   \n",
       "3        1           0          1              0    4.787492   \n",
       "4        0           0          0              0    4.948760   \n",
       "\n",
       "   Loan_Amount_Term  Credit_History  Loan_Status  ApplicantIncomeLog  \\\n",
       "0          5.886104             1.0            1            2.160333   \n",
       "1          5.886104             1.0            0            2.131810   \n",
       "2          5.886104             1.0            1            2.080237   \n",
       "3          5.886104             1.0            1            2.061368   \n",
       "4          5.886104             1.0            1            2.163267   \n",
       "\n",
       "   LoanAmountLog  Loan_Amount_TermLog  Total_IncomeLog  \n",
       "0       1.606719             1.772594         2.160333  \n",
       "1       1.579397             1.772594         2.756797  \n",
       "2       1.432618             1.772594         2.080237  \n",
       "3       1.566007             1.772594         2.748725  \n",
       "4       1.599137             1.772594         2.163267  "
      ]
     },
     "execution_count": 79,
     "metadata": {},
     "output_type": "execute_result"
    }
   ],
   "source": [
    "df.head()"
   ]
  },
  {
   "cell_type": "code",
   "execution_count": 80,
   "id": "479258bd",
   "metadata": {},
   "outputs": [],
   "source": [
    "df=df.drop('Loan_Amount_Term',axis=1)"
   ]
  },
  {
   "cell_type": "code",
   "execution_count": 81,
   "id": "cf5a0bed",
   "metadata": {},
   "outputs": [
    {
     "data": {
      "text/html": [
       "<div>\n",
       "<style scoped>\n",
       "    .dataframe tbody tr th:only-of-type {\n",
       "        vertical-align: middle;\n",
       "    }\n",
       "\n",
       "    .dataframe tbody tr th {\n",
       "        vertical-align: top;\n",
       "    }\n",
       "\n",
       "    .dataframe thead th {\n",
       "        text-align: right;\n",
       "    }\n",
       "</style>\n",
       "<table border=\"1\" class=\"dataframe\">\n",
       "  <thead>\n",
       "    <tr style=\"text-align: right;\">\n",
       "      <th></th>\n",
       "      <th>features</th>\n",
       "      <th>VIF</th>\n",
       "    </tr>\n",
       "  </thead>\n",
       "  <tbody>\n",
       "    <tr>\n",
       "      <th>8</th>\n",
       "      <td>LoanAmountLog</td>\n",
       "      <td>7161.16</td>\n",
       "    </tr>\n",
       "    <tr>\n",
       "      <th>4</th>\n",
       "      <td>LoanAmount</td>\n",
       "      <td>3122.42</td>\n",
       "    </tr>\n",
       "    <tr>\n",
       "      <th>9</th>\n",
       "      <td>Loan_Amount_TermLog</td>\n",
       "      <td>719.32</td>\n",
       "    </tr>\n",
       "    <tr>\n",
       "      <th>7</th>\n",
       "      <td>ApplicantIncomeLog</td>\n",
       "      <td>616.94</td>\n",
       "    </tr>\n",
       "    <tr>\n",
       "      <th>10</th>\n",
       "      <td>Total_IncomeLog</td>\n",
       "      <td>81.31</td>\n",
       "    </tr>\n",
       "    <tr>\n",
       "      <th>5</th>\n",
       "      <td>Credit_History</td>\n",
       "      <td>5.94</td>\n",
       "    </tr>\n",
       "    <tr>\n",
       "      <th>0</th>\n",
       "      <td>Married</td>\n",
       "      <td>3.31</td>\n",
       "    </tr>\n",
       "    <tr>\n",
       "      <th>6</th>\n",
       "      <td>Loan_Status</td>\n",
       "      <td>2.87</td>\n",
       "    </tr>\n",
       "    <tr>\n",
       "      <th>1</th>\n",
       "      <td>Dependents</td>\n",
       "      <td>1.78</td>\n",
       "    </tr>\n",
       "    <tr>\n",
       "      <th>2</th>\n",
       "      <td>Education</td>\n",
       "      <td>1.40</td>\n",
       "    </tr>\n",
       "    <tr>\n",
       "      <th>3</th>\n",
       "      <td>Self_Employed</td>\n",
       "      <td>1.20</td>\n",
       "    </tr>\n",
       "  </tbody>\n",
       "</table>\n",
       "</div>"
      ],
      "text/plain": [
       "               features      VIF\n",
       "8         LoanAmountLog  7161.16\n",
       "4            LoanAmount  3122.42\n",
       "9   Loan_Amount_TermLog   719.32\n",
       "7    ApplicantIncomeLog   616.94\n",
       "10      Total_IncomeLog    81.31\n",
       "5        Credit_History     5.94\n",
       "0               Married     3.31\n",
       "6           Loan_Status     2.87\n",
       "1            Dependents     1.78\n",
       "2             Education     1.40\n",
       "3         Self_Employed     1.20"
      ]
     },
     "execution_count": 81,
     "metadata": {},
     "output_type": "execute_result"
    }
   ],
   "source": [
    "vif(df)"
   ]
  },
  {
   "cell_type": "code",
   "execution_count": 82,
   "id": "ed15554b",
   "metadata": {},
   "outputs": [],
   "source": [
    "df=df.drop('LoanAmount',axis=1)"
   ]
  },
  {
   "cell_type": "code",
   "execution_count": 83,
   "id": "9be552b6",
   "metadata": {},
   "outputs": [
    {
     "data": {
      "text/html": [
       "<div>\n",
       "<style scoped>\n",
       "    .dataframe tbody tr th:only-of-type {\n",
       "        vertical-align: middle;\n",
       "    }\n",
       "\n",
       "    .dataframe tbody tr th {\n",
       "        vertical-align: top;\n",
       "    }\n",
       "\n",
       "    .dataframe thead th {\n",
       "        text-align: right;\n",
       "    }\n",
       "</style>\n",
       "<table border=\"1\" class=\"dataframe\">\n",
       "  <thead>\n",
       "    <tr style=\"text-align: right;\">\n",
       "      <th></th>\n",
       "      <th>features</th>\n",
       "      <th>VIF</th>\n",
       "    </tr>\n",
       "  </thead>\n",
       "  <tbody>\n",
       "    <tr>\n",
       "      <th>6</th>\n",
       "      <td>ApplicantIncomeLog</td>\n",
       "      <td>540.26</td>\n",
       "    </tr>\n",
       "    <tr>\n",
       "      <th>8</th>\n",
       "      <td>Loan_Amount_TermLog</td>\n",
       "      <td>444.99</td>\n",
       "    </tr>\n",
       "    <tr>\n",
       "      <th>7</th>\n",
       "      <td>LoanAmountLog</td>\n",
       "      <td>327.81</td>\n",
       "    </tr>\n",
       "    <tr>\n",
       "      <th>9</th>\n",
       "      <td>Total_IncomeLog</td>\n",
       "      <td>78.91</td>\n",
       "    </tr>\n",
       "    <tr>\n",
       "      <th>4</th>\n",
       "      <td>Credit_History</td>\n",
       "      <td>5.93</td>\n",
       "    </tr>\n",
       "    <tr>\n",
       "      <th>0</th>\n",
       "      <td>Married</td>\n",
       "      <td>3.31</td>\n",
       "    </tr>\n",
       "    <tr>\n",
       "      <th>5</th>\n",
       "      <td>Loan_Status</td>\n",
       "      <td>2.86</td>\n",
       "    </tr>\n",
       "    <tr>\n",
       "      <th>1</th>\n",
       "      <td>Dependents</td>\n",
       "      <td>1.78</td>\n",
       "    </tr>\n",
       "    <tr>\n",
       "      <th>2</th>\n",
       "      <td>Education</td>\n",
       "      <td>1.35</td>\n",
       "    </tr>\n",
       "    <tr>\n",
       "      <th>3</th>\n",
       "      <td>Self_Employed</td>\n",
       "      <td>1.19</td>\n",
       "    </tr>\n",
       "  </tbody>\n",
       "</table>\n",
       "</div>"
      ],
      "text/plain": [
       "              features     VIF\n",
       "6   ApplicantIncomeLog  540.26\n",
       "8  Loan_Amount_TermLog  444.99\n",
       "7        LoanAmountLog  327.81\n",
       "9      Total_IncomeLog   78.91\n",
       "4       Credit_History    5.93\n",
       "0              Married    3.31\n",
       "5          Loan_Status    2.86\n",
       "1           Dependents    1.78\n",
       "2            Education    1.35\n",
       "3        Self_Employed    1.19"
      ]
     },
     "execution_count": 83,
     "metadata": {},
     "output_type": "execute_result"
    }
   ],
   "source": [
    "vif(df)"
   ]
  },
  {
   "cell_type": "code",
   "execution_count": 84,
   "id": "1db78ad0",
   "metadata": {},
   "outputs": [],
   "source": [
    "df=df.drop('ApplicantIncomeLog',axis=1)\n"
   ]
  },
  {
   "cell_type": "code",
   "execution_count": 85,
   "id": "41f93df0",
   "metadata": {},
   "outputs": [],
   "source": [
    "df=df.drop('Loan_Amount_TermLog',axis=1)"
   ]
  },
  {
   "cell_type": "code",
   "execution_count": 86,
   "id": "2df80b2c",
   "metadata": {},
   "outputs": [
    {
     "data": {
      "text/html": [
       "<div>\n",
       "<style scoped>\n",
       "    .dataframe tbody tr th:only-of-type {\n",
       "        vertical-align: middle;\n",
       "    }\n",
       "\n",
       "    .dataframe tbody tr th {\n",
       "        vertical-align: top;\n",
       "    }\n",
       "\n",
       "    .dataframe thead th {\n",
       "        text-align: right;\n",
       "    }\n",
       "</style>\n",
       "<table border=\"1\" class=\"dataframe\">\n",
       "  <thead>\n",
       "    <tr style=\"text-align: right;\">\n",
       "      <th></th>\n",
       "      <th>features</th>\n",
       "      <th>VIF</th>\n",
       "    </tr>\n",
       "  </thead>\n",
       "  <tbody>\n",
       "    <tr>\n",
       "      <th>7</th>\n",
       "      <td>Total_IncomeLog</td>\n",
       "      <td>73.31</td>\n",
       "    </tr>\n",
       "    <tr>\n",
       "      <th>6</th>\n",
       "      <td>LoanAmountLog</td>\n",
       "      <td>72.56</td>\n",
       "    </tr>\n",
       "    <tr>\n",
       "      <th>4</th>\n",
       "      <td>Credit_History</td>\n",
       "      <td>5.93</td>\n",
       "    </tr>\n",
       "    <tr>\n",
       "      <th>0</th>\n",
       "      <td>Married</td>\n",
       "      <td>3.27</td>\n",
       "    </tr>\n",
       "    <tr>\n",
       "      <th>5</th>\n",
       "      <td>Loan_Status</td>\n",
       "      <td>2.80</td>\n",
       "    </tr>\n",
       "    <tr>\n",
       "      <th>1</th>\n",
       "      <td>Dependents</td>\n",
       "      <td>1.75</td>\n",
       "    </tr>\n",
       "    <tr>\n",
       "      <th>2</th>\n",
       "      <td>Education</td>\n",
       "      <td>1.32</td>\n",
       "    </tr>\n",
       "    <tr>\n",
       "      <th>3</th>\n",
       "      <td>Self_Employed</td>\n",
       "      <td>1.18</td>\n",
       "    </tr>\n",
       "  </tbody>\n",
       "</table>\n",
       "</div>"
      ],
      "text/plain": [
       "          features    VIF\n",
       "7  Total_IncomeLog  73.31\n",
       "6    LoanAmountLog  72.56\n",
       "4   Credit_History   5.93\n",
       "0          Married   3.27\n",
       "5      Loan_Status   2.80\n",
       "1       Dependents   1.75\n",
       "2        Education   1.32\n",
       "3    Self_Employed   1.18"
      ]
     },
     "execution_count": 86,
     "metadata": {},
     "output_type": "execute_result"
    }
   ],
   "source": [
    "vif(df)"
   ]
  },
  {
   "cell_type": "markdown",
   "id": "permanent-death",
   "metadata": {
    "papermill": {
     "duration": 0.097349,
     "end_time": "2021-04-05T20:22:50.126784",
     "exception": false,
     "start_time": "2021-04-05T20:22:50.029435",
     "status": "completed"
    },
    "tags": []
   },
   "source": [
    "## TRAIN-TEST SPLIT:"
   ]
  },
  {
   "cell_type": "code",
   "execution_count": 87,
   "id": "compatible-badge",
   "metadata": {
    "execution": {
     "iopub.execute_input": "2021-04-05T20:22:50.323970Z",
     "iopub.status.busy": "2021-04-05T20:22:50.322962Z",
     "iopub.status.idle": "2021-04-05T20:22:50.327784Z",
     "shell.execute_reply": "2021-04-05T20:22:50.327117Z"
    },
    "papermill": {
     "duration": 0.106777,
     "end_time": "2021-04-05T20:22:50.327956",
     "exception": false,
     "start_time": "2021-04-05T20:22:50.221179",
     "status": "completed"
    },
    "tags": []
   },
   "outputs": [],
   "source": [
    "X = df.drop(columns = ['Loan_Status'],axis =1)"
   ]
  },
  {
   "cell_type": "code",
   "execution_count": 88,
   "id": "veterinary-symbol",
   "metadata": {
    "execution": {
     "iopub.execute_input": "2021-04-05T20:22:50.523803Z",
     "iopub.status.busy": "2021-04-05T20:22:50.523140Z",
     "iopub.status.idle": "2021-04-05T20:22:50.526809Z",
     "shell.execute_reply": "2021-04-05T20:22:50.526210Z"
    },
    "papermill": {
     "duration": 0.102443,
     "end_time": "2021-04-05T20:22:50.526966",
     "exception": false,
     "start_time": "2021-04-05T20:22:50.424523",
     "status": "completed"
    },
    "tags": []
   },
   "outputs": [],
   "source": [
    "y = df['Loan_Status']"
   ]
  },
  {
   "cell_type": "code",
   "execution_count": 89,
   "id": "484b90a6",
   "metadata": {},
   "outputs": [],
   "source": [
    "from sklearn.model_selection import StratifiedShuffleSplit"
   ]
  },
  {
   "cell_type": "code",
   "execution_count": 90,
   "id": "97d89485",
   "metadata": {},
   "outputs": [],
   "source": [
    "sss=StratifiedShuffleSplit(n_splits=1,test_size=0.3,random_state=40)\n",
    "for train_data,test_data in sss.split(X,y):\n",
    "    train_df=df.loc[train_data]\n",
    "    test_df=df.loc[test_data]\n"
   ]
  },
  {
   "cell_type": "code",
   "execution_count": 91,
   "id": "36a49231",
   "metadata": {},
   "outputs": [],
   "source": [
    "X_train=train_df.drop('Loan_Status',axis=1)"
   ]
  },
  {
   "cell_type": "code",
   "execution_count": 92,
   "id": "c05f31a4",
   "metadata": {},
   "outputs": [],
   "source": [
    "Y_train=train_df['Loan_Status']"
   ]
  },
  {
   "cell_type": "code",
   "execution_count": 93,
   "id": "d1e0633a",
   "metadata": {},
   "outputs": [],
   "source": [
    "X_test=test_df.drop('Loan_Status',axis=1)"
   ]
  },
  {
   "cell_type": "code",
   "execution_count": 94,
   "id": "6692af72",
   "metadata": {},
   "outputs": [],
   "source": [
    "Y_test=test_df['Loan_Status']"
   ]
  },
  {
   "cell_type": "code",
   "execution_count": 95,
   "id": "1fb9bcf6",
   "metadata": {},
   "outputs": [
    {
     "data": {
      "text/plain": [
       "1    0.215254\n",
       "0    0.215254\n",
       "Name: Loan_Status, dtype: float64"
      ]
     },
     "execution_count": 95,
     "metadata": {},
     "output_type": "execute_result"
    }
   ],
   "source": [
    "Y_train.value_counts()/Y_train.shape[0]\n",
    "Y_test.value_counts()/Y_train.shape[0]"
   ]
  },
  {
   "cell_type": "markdown",
   "id": "antique-finish",
   "metadata": {
    "papermill": {
     "duration": 0.094768,
     "end_time": "2021-04-05T20:22:51.177135",
     "exception": false,
     "start_time": "2021-04-05T20:22:51.082367",
     "status": "completed"
    },
    "tags": []
   },
   "source": [
    "## MODEL TRAINING:\n"
   ]
  },
  {
   "cell_type": "code",
   "execution_count": 96,
   "id": "funny-dubai",
   "metadata": {
    "execution": {
     "iopub.execute_input": "2021-04-05T20:22:51.371276Z",
     "iopub.status.busy": "2021-04-05T20:22:51.370268Z",
     "iopub.status.idle": "2021-04-05T20:22:51.376810Z",
     "shell.execute_reply": "2021-04-05T20:22:51.377272Z"
    },
    "papermill": {
     "duration": 0.106606,
     "end_time": "2021-04-05T20:22:51.377479",
     "exception": false,
     "start_time": "2021-04-05T20:22:51.270873",
     "status": "completed"
    },
    "tags": []
   },
   "outputs": [],
   "source": [
    "from sklearn.model_selection import cross_val_score\n",
    "def classify(model,x,y):\n",
    "    model.fit(X_train,Y_train)\n",
    "    print(\"Accuracy is \", model.score(X_test,Y_test)*100)\n",
    "    score=cross_val_score(model,x,y,cv=5)\n",
    "    print(\"Cross validation is ,\" ,np.mean(score)*100)"
   ]
  },
  {
   "cell_type": "code",
   "execution_count": 97,
   "id": "applied-contents",
   "metadata": {
    "execution": {
     "iopub.execute_input": "2021-04-05T20:22:51.572834Z",
     "iopub.status.busy": "2021-04-05T20:22:51.571829Z",
     "iopub.status.idle": "2021-04-05T20:22:51.862362Z",
     "shell.execute_reply": "2021-04-05T20:22:51.861205Z"
    },
    "papermill": {
     "duration": 0.389601,
     "end_time": "2021-04-05T20:22:51.862581",
     "exception": false,
     "start_time": "2021-04-05T20:22:51.472980",
     "status": "completed"
    },
    "tags": []
   },
   "outputs": [
    {
     "name": "stdout",
     "output_type": "stream",
     "text": [
      "Accuracy is  74.80314960629921\n",
      "Cross validation is , 73.38983050847457\n"
     ]
    }
   ],
   "source": [
    "from sklearn.linear_model import LogisticRegression\n",
    "model = LogisticRegression()\n",
    "classify(model,X_train,Y_train)"
   ]
  },
  {
   "cell_type": "code",
   "execution_count": 98,
   "id": "9764b6eb",
   "metadata": {},
   "outputs": [
    {
     "name": "stdout",
     "output_type": "stream",
     "text": [
      "Accuracy is  72.44094488188976\n",
      "Cross validation is , 70.84745762711864\n"
     ]
    }
   ],
   "source": [
    "from sklearn.neighbors import KNeighborsClassifier\n",
    "model = KNeighborsClassifier()\n",
    "classify(model,X_train, Y_train)"
   ]
  },
  {
   "cell_type": "code",
   "execution_count": 99,
   "id": "blind-pleasure",
   "metadata": {
    "execution": {
     "iopub.execute_input": "2021-04-05T20:22:57.841019Z",
     "iopub.status.busy": "2021-04-05T20:22:57.839877Z",
     "iopub.status.idle": "2021-04-05T20:22:57.859857Z",
     "shell.execute_reply": "2021-04-05T20:22:57.859195Z"
    },
    "papermill": {
     "duration": 0.12891,
     "end_time": "2021-04-05T20:22:57.860020",
     "exception": false,
     "start_time": "2021-04-05T20:22:57.731110",
     "status": "completed"
    },
    "tags": []
   },
   "outputs": [],
   "source": [
    "from sklearn.metrics import confusion_matrix\n",
    "Y_pred=model.predict(X_test)\n",
    "cm = confusion_matrix(Y_pred,Y_test)"
   ]
  },
  {
   "cell_type": "code",
   "execution_count": 100,
   "id": "animated-youth",
   "metadata": {
    "execution": {
     "iopub.execute_input": "2021-04-05T20:22:58.067164Z",
     "iopub.status.busy": "2021-04-05T20:22:58.066268Z",
     "iopub.status.idle": "2021-04-05T20:22:58.070019Z",
     "shell.execute_reply": "2021-04-05T20:22:58.070639Z"
    },
    "papermill": {
     "duration": 0.10978,
     "end_time": "2021-04-05T20:22:58.070836",
     "exception": false,
     "start_time": "2021-04-05T20:22:57.961056",
     "status": "completed"
    },
    "tags": []
   },
   "outputs": [
    {
     "data": {
      "text/plain": [
       "array([[89, 32],\n",
       "       [38, 95]], dtype=int64)"
      ]
     },
     "execution_count": 100,
     "metadata": {},
     "output_type": "execute_result"
    }
   ],
   "source": [
    "cm"
   ]
  },
  {
   "cell_type": "code",
   "execution_count": 101,
   "id": "accessory-sauce",
   "metadata": {
    "execution": {
     "iopub.execute_input": "2021-04-05T20:22:58.272835Z",
     "iopub.status.busy": "2021-04-05T20:22:58.271869Z",
     "iopub.status.idle": "2021-04-05T20:22:58.519218Z",
     "shell.execute_reply": "2021-04-05T20:22:58.519811Z"
    },
    "papermill": {
     "duration": 0.350006,
     "end_time": "2021-04-05T20:22:58.520002",
     "exception": false,
     "start_time": "2021-04-05T20:22:58.169996",
     "status": "completed"
    },
    "tags": []
   },
   "outputs": [
    {
     "data": {
      "text/plain": [
       "<AxesSubplot:>"
      ]
     },
     "execution_count": 101,
     "metadata": {},
     "output_type": "execute_result"
    },
    {
     "data": {
      "image/png": "[encoded data removed]",
      "text/plain": [
       "<Figure size 432x288 with 2 Axes>"
      ]
     },
     "metadata": {
      "needs_background": "light"
     },
     "output_type": "display_data"
    }
   ],
   "source": [
    "sns.heatmap(cm,annot=True)\n"
   ]
  },
  {
   "cell_type": "code",
   "execution_count": null,
   "id": "15173272",
   "metadata": {},
   "outputs": [],
   "source": []
  }
 ],
 "metadata": {
  "kernelspec": {
   "display_name": "Python 3 (ipykernel)",
   "language": "python",
   "name": "python3"
  },
  "language_info": {
   "codemirror_mode": {
    "name": "ipython",
    "version": 3
   },
   "file_extension": ".py",
   "mimetype": "text/x-python",
   "name": "python",
   "nbconvert_exporter": "python",
   "pygments_lexer": "ipython3",
   "version": "3.9.7"
  },
  "papermill": {
   "default_parameters": {},
   "duration": 31.631973,
   "end_time": "2021-04-05T20:22:59.668983",
   "environment_variables": {},
   "exception": null,
   "input_path": "__notebook__.ipynb",
   "output_path": "__notebook__.ipynb",
   "parameters": {},
   "start_time": "2021-04-05T20:22:28.037010",
   "version": "2.3.2"
  }
 },
 "nbformat": 4,
 "nbformat_minor": 5
}
